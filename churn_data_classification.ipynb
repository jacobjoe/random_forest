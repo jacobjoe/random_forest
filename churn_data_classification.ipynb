{
  "nbformat": 4,
  "nbformat_minor": 0,
  "metadata": {
    "colab": {
      "name": "churn_data_classification.ipynb",
      "provenance": [],
      "collapsed_sections": []
    },
    "kernelspec": {
      "name": "python3",
      "display_name": "Python 3"
    },
    "language_info": {
      "name": "python"
    }
  },
  "cells": [
    {
      "cell_type": "markdown",
      "metadata": {
        "id": "wX8nMQMXxGty"
      },
      "source": [
        "# <center>Churn Modelling"
      ]
    },
    {
      "cell_type": "markdown",
      "metadata": {
        "id": "w6JLJkh1xc0F"
      },
      "source": [
        "---"
      ]
    },
    {
      "cell_type": "markdown",
      "metadata": {
        "id": "bMuAl_RixheJ"
      },
      "source": [
        "**G Henry Jacob**"
      ]
    },
    {
      "cell_type": "markdown",
      "metadata": {
        "id": "oKk9xT-qxmJ9"
      },
      "source": [
        "18th April 2021"
      ]
    },
    {
      "cell_type": "markdown",
      "metadata": {
        "id": "bueE6bCPxtJM"
      },
      "source": [
        "### Introduction"
      ]
    },
    {
      "cell_type": "markdown",
      "metadata": {
        "id": "hPDlmY6exxBh"
      },
      "source": [
        "Churn_Modelling data set contains details of a bank's customers and the target variable is a binary variable reflecting the fact whether the customer left the bank (closed his account) or he continues to be a customer."
      ]
    },
    {
      "cell_type": "markdown",
      "metadata": {
        "id": "Kr9XgaQpx0r3"
      },
      "source": [
        "![](https://i2.cdn.turner.com/money/2011/08/30/pf/hurricane_irene_banks_waive_fees/bank-branch.ju.top.jpg)"
      ]
    },
    {
      "cell_type": "markdown",
      "metadata": {
        "id": "klHZ8XZux4fk"
      },
      "source": [
        "### Business Problem"
      ]
    },
    {
      "cell_type": "markdown",
      "metadata": {
        "id": "sZkrFzYsx7Om"
      },
      "source": [
        "The aim is to help the bank to retain their customers. Our findings will help bank to understand their customers and the factors associated with the customer's need and fulfill them."
      ]
    },
    {
      "cell_type": "markdown",
      "metadata": {
        "id": "joCaEq-vx-Aq"
      },
      "source": [
        "### Methodology"
      ]
    },
    {
      "cell_type": "markdown",
      "metadata": {
        "id": "5yhzpwrIyA3Q"
      },
      "source": [
        "We will be creating our model with the help of Python so we start off by importing all the required packages."
      ]
    },
    {
      "cell_type": "code",
      "metadata": {
        "id": "L-2lriadxdgq"
      },
      "source": [
        "import numpy as np\n",
        "import pandas as pd\n",
        "import seaborn as sns\n",
        "import matplotlib.pyplot as plt\n",
        "%matplotlib inline\n",
        "import warnings \n",
        "warnings.filterwarnings('ignore')"
      ],
      "execution_count": 1,
      "outputs": []
    },
    {
      "cell_type": "markdown",
      "metadata": {
        "id": "A4jCZhQ-yJPq"
      },
      "source": [
        "### Collecting Data"
      ]
    },
    {
      "cell_type": "code",
      "metadata": {
        "colab": {
          "base_uri": "https://localhost:8080/",
          "height": 224
        },
        "id": "rEBy3bg3yFtF",
        "outputId": "adf14d04-818d-49b8-be35-e1f2d85c83cf"
      },
      "source": [
        "# read data using pandas\n",
        "df = pd.read_csv('/content/Churn_Modelling.csv')\n",
        "df.head()"
      ],
      "execution_count": 3,
      "outputs": [
        {
          "output_type": "execute_result",
          "data": {
            "text/html": [
              "<div>\n",
              "<style scoped>\n",
              "    .dataframe tbody tr th:only-of-type {\n",
              "        vertical-align: middle;\n",
              "    }\n",
              "\n",
              "    .dataframe tbody tr th {\n",
              "        vertical-align: top;\n",
              "    }\n",
              "\n",
              "    .dataframe thead th {\n",
              "        text-align: right;\n",
              "    }\n",
              "</style>\n",
              "<table border=\"1\" class=\"dataframe\">\n",
              "  <thead>\n",
              "    <tr style=\"text-align: right;\">\n",
              "      <th></th>\n",
              "      <th>RowNumber</th>\n",
              "      <th>CustomerId</th>\n",
              "      <th>Surname</th>\n",
              "      <th>CreditScore</th>\n",
              "      <th>Geography</th>\n",
              "      <th>Gender</th>\n",
              "      <th>Age</th>\n",
              "      <th>Tenure</th>\n",
              "      <th>Balance</th>\n",
              "      <th>NumOfProducts</th>\n",
              "      <th>HasCrCard</th>\n",
              "      <th>IsActiveMember</th>\n",
              "      <th>EstimatedSalary</th>\n",
              "      <th>Exited</th>\n",
              "    </tr>\n",
              "  </thead>\n",
              "  <tbody>\n",
              "    <tr>\n",
              "      <th>0</th>\n",
              "      <td>1</td>\n",
              "      <td>15634602</td>\n",
              "      <td>Hargrave</td>\n",
              "      <td>619</td>\n",
              "      <td>France</td>\n",
              "      <td>Female</td>\n",
              "      <td>42</td>\n",
              "      <td>2</td>\n",
              "      <td>0.00</td>\n",
              "      <td>1</td>\n",
              "      <td>1</td>\n",
              "      <td>1</td>\n",
              "      <td>101348.88</td>\n",
              "      <td>1</td>\n",
              "    </tr>\n",
              "    <tr>\n",
              "      <th>1</th>\n",
              "      <td>2</td>\n",
              "      <td>15647311</td>\n",
              "      <td>Hill</td>\n",
              "      <td>608</td>\n",
              "      <td>Spain</td>\n",
              "      <td>Female</td>\n",
              "      <td>41</td>\n",
              "      <td>1</td>\n",
              "      <td>83807.86</td>\n",
              "      <td>1</td>\n",
              "      <td>0</td>\n",
              "      <td>1</td>\n",
              "      <td>112542.58</td>\n",
              "      <td>0</td>\n",
              "    </tr>\n",
              "    <tr>\n",
              "      <th>2</th>\n",
              "      <td>3</td>\n",
              "      <td>15593897</td>\n",
              "      <td>Carr</td>\n",
              "      <td>650</td>\n",
              "      <td>Spain</td>\n",
              "      <td>Male</td>\n",
              "      <td>25</td>\n",
              "      <td>7</td>\n",
              "      <td>160599.06</td>\n",
              "      <td>2</td>\n",
              "      <td>1</td>\n",
              "      <td>1</td>\n",
              "      <td>28391.52</td>\n",
              "      <td>0</td>\n",
              "    </tr>\n",
              "    <tr>\n",
              "      <th>3</th>\n",
              "      <td>4</td>\n",
              "      <td>15748595</td>\n",
              "      <td>Stanton</td>\n",
              "      <td>689</td>\n",
              "      <td>France</td>\n",
              "      <td>Female</td>\n",
              "      <td>29</td>\n",
              "      <td>1</td>\n",
              "      <td>77556.79</td>\n",
              "      <td>2</td>\n",
              "      <td>1</td>\n",
              "      <td>1</td>\n",
              "      <td>122998.26</td>\n",
              "      <td>0</td>\n",
              "    </tr>\n",
              "    <tr>\n",
              "      <th>4</th>\n",
              "      <td>5</td>\n",
              "      <td>15744109</td>\n",
              "      <td>Hartung</td>\n",
              "      <td>850</td>\n",
              "      <td>France</td>\n",
              "      <td>Male</td>\n",
              "      <td>32</td>\n",
              "      <td>4</td>\n",
              "      <td>0.00</td>\n",
              "      <td>1</td>\n",
              "      <td>1</td>\n",
              "      <td>1</td>\n",
              "      <td>180622.02</td>\n",
              "      <td>0</td>\n",
              "    </tr>\n",
              "  </tbody>\n",
              "</table>\n",
              "</div>"
            ],
            "text/plain": [
              "   RowNumber  CustomerId   Surname  ...  IsActiveMember EstimatedSalary Exited\n",
              "0          1    15634602  Hargrave  ...               1       101348.88      1\n",
              "1          2    15647311      Hill  ...               1       112542.58      0\n",
              "2          3    15593897      Carr  ...               1        28391.52      0\n",
              "3          4    15748595   Stanton  ...               1       122998.26      0\n",
              "4          5    15744109   Hartung  ...               1       180622.02      0\n",
              "\n",
              "[5 rows x 14 columns]"
            ]
          },
          "metadata": {
            "tags": []
          },
          "execution_count": 3
        }
      ]
    },
    {
      "cell_type": "markdown",
      "metadata": {
        "id": "AUniYiMmzV9v"
      },
      "source": [
        "### Analysing Data"
      ]
    },
    {
      "cell_type": "markdown",
      "metadata": {
        "id": "6ZIP2dMizYPU"
      },
      "source": [
        "Analyze the churn data and extract the information from it"
      ]
    },
    {
      "cell_type": "code",
      "metadata": {
        "colab": {
          "base_uri": "https://localhost:8080/"
        },
        "id": "UViW0lEFyMJN",
        "outputId": "e560a3cb-c1f3-454c-bd38-deba9dee9a08"
      },
      "source": [
        "df.shape"
      ],
      "execution_count": 4,
      "outputs": [
        {
          "output_type": "execute_result",
          "data": {
            "text/plain": [
              "(5692, 14)"
            ]
          },
          "metadata": {
            "tags": []
          },
          "execution_count": 4
        }
      ]
    },
    {
      "cell_type": "code",
      "metadata": {
        "colab": {
          "base_uri": "https://localhost:8080/"
        },
        "id": "tb2nUecOzaEQ",
        "outputId": "5c6edd24-f1f0-4c43-94c1-d46821cb8b7c"
      },
      "source": [
        "df.columns"
      ],
      "execution_count": 5,
      "outputs": [
        {
          "output_type": "execute_result",
          "data": {
            "text/plain": [
              "Index(['RowNumber', 'CustomerId', 'Surname', 'CreditScore', 'Geography',\n",
              "       'Gender', 'Age', 'Tenure', 'Balance', 'NumOfProducts', 'HasCrCard',\n",
              "       'IsActiveMember', 'EstimatedSalary', 'Exited'],\n",
              "      dtype='object')"
            ]
          },
          "metadata": {
            "tags": []
          },
          "execution_count": 5
        }
      ]
    },
    {
      "cell_type": "code",
      "metadata": {
        "colab": {
          "base_uri": "https://localhost:8080/"
        },
        "id": "SLfJVqcozb2Y",
        "outputId": "55cc9789-a414-4af0-8098-f1defbc2b4b0"
      },
      "source": [
        "# to know the data type\n",
        "df.info()"
      ],
      "execution_count": 6,
      "outputs": [
        {
          "output_type": "stream",
          "text": [
            "<class 'pandas.core.frame.DataFrame'>\n",
            "RangeIndex: 5692 entries, 0 to 5691\n",
            "Data columns (total 14 columns):\n",
            " #   Column           Non-Null Count  Dtype  \n",
            "---  ------           --------------  -----  \n",
            " 0   RowNumber        5692 non-null   int64  \n",
            " 1   CustomerId       5692 non-null   int64  \n",
            " 2   Surname          5692 non-null   object \n",
            " 3   CreditScore      5692 non-null   int64  \n",
            " 4   Geography        5692 non-null   object \n",
            " 5   Gender           5692 non-null   object \n",
            " 6   Age              5692 non-null   int64  \n",
            " 7   Tenure           5692 non-null   int64  \n",
            " 8   Balance          5692 non-null   float64\n",
            " 9   NumOfProducts    5692 non-null   int64  \n",
            " 10  HasCrCard        5692 non-null   int64  \n",
            " 11  IsActiveMember   5692 non-null   int64  \n",
            " 12  EstimatedSalary  5692 non-null   float64\n",
            " 13  Exited           5692 non-null   int64  \n",
            "dtypes: float64(2), int64(9), object(3)\n",
            "memory usage: 622.7+ KB\n"
          ],
          "name": "stdout"
        }
      ]
    },
    {
      "cell_type": "code",
      "metadata": {
        "colab": {
          "base_uri": "https://localhost:8080/"
        },
        "id": "Ph_n3nE2zd8x",
        "outputId": "d29fc976-723f-43cd-d6db-6820f9e02f13"
      },
      "source": [
        "df['Surname'].value_counts()[:10]"
      ],
      "execution_count": 7,
      "outputs": [
        {
          "output_type": "execute_result",
          "data": {
            "text/plain": [
              "Martin      23\n",
              "Smith       22\n",
              "Scott       22\n",
              "Yeh         17\n",
              "Ma          16\n",
              "Genovese    16\n",
              "Shih        16\n",
              "Maclean     16\n",
              "Walker      15\n",
              "Forbes      15\n",
              "Name: Surname, dtype: int64"
            ]
          },
          "metadata": {
            "tags": []
          },
          "execution_count": 7
        }
      ]
    },
    {
      "cell_type": "markdown",
      "metadata": {
        "id": "8I6xz304zlQC"
      },
      "source": [
        "The bank has more customers from  the above family. (Surname)"
      ]
    },
    {
      "cell_type": "code",
      "metadata": {
        "id": "wDi0re-Dziog"
      },
      "source": [
        "geography = df['Geography'].value_counts()"
      ],
      "execution_count": 8,
      "outputs": []
    },
    {
      "cell_type": "code",
      "metadata": {
        "colab": {
          "base_uri": "https://localhost:8080/",
          "height": 270
        },
        "id": "GdD3B_qIznUf",
        "outputId": "050ca425-e9a8-48dc-ad0f-7ddf97d3ca6d"
      },
      "source": [
        "labels = geography.index\n",
        "sizes = geography.values\n",
        "explode = (0, 0, 0.1)\n",
        "fig1, ax1 = plt.subplots()\n",
        "ax1.pie(sizes, explode=explode, labels=labels, autopct='%1.1f%%',\n",
        "        shadow=True, startangle= 50)\n",
        "ax1.axis('equal')\n",
        "plt.title('Number of customers from countries', size = 15)\n",
        "plt.show()"
      ],
      "execution_count": 9,
      "outputs": [
        {
          "output_type": "display_data",
          "data": {
            "image/png": "[encoded data removed]",
            "text/plain": [
              "<Figure size 432x288 with 1 Axes>"
            ]
          },
          "metadata": {
            "tags": []
          }
        }
      ]
    },
    {
      "cell_type": "markdown",
      "metadata": {
        "id": "ulnR7Jezzrfn"
      },
      "source": [
        "Bank has almost twice the number of customers from **France** than other countries, whereas less number of customers from Germany"
      ]
    },
    {
      "cell_type": "code",
      "metadata": {
        "colab": {
          "base_uri": "https://localhost:8080/",
          "height": 515
        },
        "id": "xwlDqOASzo82",
        "outputId": "3c3aa9ec-787d-490f-9c6e-87affdefbbab"
      },
      "source": [
        "plt.figure(figsize = (6, 8))\n",
        "sns.countplot(df['Gender'], palette= 'bright')\n",
        "plt.title('Number of customers by gender', size = 15)\n",
        "plt.show()"
      ],
      "execution_count": 10,
      "outputs": [
        {
          "output_type": "display_data",
          "data": {
            "image/png": "[encoded data removed]",
            "text/plain": [
              "<Figure size 432x576 with 1 Axes>"
            ]
          },
          "metadata": {
            "tags": [],
            "needs_background": "light"
          }
        }
      ]
    },
    {
      "cell_type": "markdown",
      "metadata": {
        "id": "Wzw4y8EYzxif"
      },
      "source": [
        "Bank has more number of male customers than female customers"
      ]
    },
    {
      "cell_type": "code",
      "metadata": {
        "colab": {
          "base_uri": "https://localhost:8080/",
          "height": 406
        },
        "id": "IKAfwh1dzvtm",
        "outputId": "791b9879-44b3-4a93-e6b0-4f5e2d7dd34b"
      },
      "source": [
        "plt.figure(figsize = (12, 6))\n",
        "sns.countplot(df['Tenure'], palette= 'bright')\n",
        "plt.title('Tenure', size = 15)\n",
        "plt.show()"
      ],
      "execution_count": 11,
      "outputs": [
        {
          "output_type": "display_data",
          "data": {
            "image/png": "[encoded data removed]",
            "text/plain": [
              "<Figure size 864x432 with 1 Axes>"
            ]
          },
          "metadata": {
            "tags": [],
            "needs_background": "light"
          }
        }
      ]
    },
    {
      "cell_type": "code",
      "metadata": {
        "colab": {
          "base_uri": "https://localhost:8080/",
          "height": 406
        },
        "id": "lFC0ggJKz0dE",
        "outputId": "9b287757-2cbf-4e5f-8653-5d814fb9ea10"
      },
      "source": [
        "plt.figure(figsize = (12, 6))\n",
        "sns.countplot(df['NumOfProducts'], palette= 'bright')\n",
        "plt.title('Number of products', size = 15)\n",
        "plt.show()"
      ],
      "execution_count": 12,
      "outputs": [
        {
          "output_type": "display_data",
          "data": {
            "image/png": "[encoded data removed]",
            "text/plain": [
              "<Figure size 864x432 with 1 Axes>"
            ]
          },
          "metadata": {
            "tags": [],
            "needs_background": "light"
          }
        }
      ]
    },
    {
      "cell_type": "markdown",
      "metadata": {
        "id": "e27Zgm6Hz6-1"
      },
      "source": [
        "Customers bought 1 or 2 products more time"
      ]
    },
    {
      "cell_type": "code",
      "metadata": {
        "colab": {
          "base_uri": "https://localhost:8080/",
          "height": 352
        },
        "id": "gsCLdjSoz2nU",
        "outputId": "300de01a-bafa-414e-fe86-4e5164bd6f43"
      },
      "source": [
        "plt.figure(figsize = (12, 5))\n",
        "sns.countplot(x = df['Geography'], hue = df['HasCrCard'], palette= 'bright')\n",
        "plt.title('Number of Credit card users countrywise', size = 15)\n",
        "plt.show()"
      ],
      "execution_count": 13,
      "outputs": [
        {
          "output_type": "display_data",
          "data": {
            "image/png": "[encoded data removed]",
            "text/plain": [
              "<Figure size 864x360 with 1 Axes>"
            ]
          },
          "metadata": {
            "tags": [],
            "needs_background": "light"
          }
        }
      ]
    },
    {
      "cell_type": "code",
      "metadata": {
        "colab": {
          "base_uri": "https://localhost:8080/",
          "height": 352
        },
        "id": "-epkM2aWz9JA",
        "outputId": "b558a22e-56b9-4ff4-c2f7-2866c60f01e1"
      },
      "source": [
        "plt.figure(figsize = (12, 5))\n",
        "sns.countplot(x = df['Gender'], hue = df['HasCrCard'], palette= 'bright')\n",
        "plt.title('Number of credit card user genderwise', size = 15)\n",
        "plt.show()"
      ],
      "execution_count": 14,
      "outputs": [
        {
          "output_type": "display_data",
          "data": {
            "image/png": "[encoded data removed]",
            "text/plain": [
              "<Figure size 864x360 with 1 Axes>"
            ]
          },
          "metadata": {
            "tags": [],
            "needs_background": "light"
          }
        }
      ]
    },
    {
      "cell_type": "markdown",
      "metadata": {
        "id": "NMCCLtMm0BOb"
      },
      "source": [
        "More customers have credit card in countrywise as well as genderwise"
      ]
    },
    {
      "cell_type": "code",
      "metadata": {
        "colab": {
          "base_uri": "https://localhost:8080/"
        },
        "id": "xibwq8WEz_I2",
        "outputId": "ccd5fd80-15b3-487a-98d3-e35afc56fe3d"
      },
      "source": [
        "df['EstimatedSalary'].describe()"
      ],
      "execution_count": 15,
      "outputs": [
        {
          "output_type": "execute_result",
          "data": {
            "text/plain": [
              "count      5692.000000\n",
              "mean      99757.268373\n",
              "std       57512.971784\n",
              "min          11.580000\n",
              "25%       51014.837500\n",
              "50%       99913.850000\n",
              "75%      148704.387500\n",
              "max      199970.740000\n",
              "Name: EstimatedSalary, dtype: float64"
            ]
          },
          "metadata": {
            "tags": []
          },
          "execution_count": 15
        }
      ]
    },
    {
      "cell_type": "markdown",
      "metadata": {
        "id": "7LtNtVQn0GE9"
      },
      "source": [
        "The above result shows the minimum, maximum and mean value of the Estimated Salary "
      ]
    },
    {
      "cell_type": "code",
      "metadata": {
        "colab": {
          "base_uri": "https://localhost:8080/",
          "height": 297
        },
        "id": "uc3N-lhK0DHC",
        "outputId": "60ffb25e-b81f-4d7d-dd10-82be7560a0da"
      },
      "source": [
        "plt.figure(figsize = (12, 4))\n",
        "sns.boxplot(df['EstimatedSalary'], color = 'green')\n",
        "plt.title('Estimated Salary', size = 15)\n",
        "plt.show()"
      ],
      "execution_count": 16,
      "outputs": [
        {
          "output_type": "display_data",
          "data": {
            "image/png": "[encoded data removed]",
            "text/plain": [
              "<Figure size 864x288 with 1 Axes>"
            ]
          },
          "metadata": {
            "tags": [],
            "needs_background": "light"
          }
        }
      ]
    },
    {
      "cell_type": "markdown",
      "metadata": {
        "id": "JN1m7HO10KyZ"
      },
      "source": [
        "Above figure infers that there is no skewness in the data"
      ]
    },
    {
      "cell_type": "code",
      "metadata": {
        "colab": {
          "base_uri": "https://localhost:8080/",
          "height": 406
        },
        "id": "r4k71WLP0Iao",
        "outputId": "ac48044d-e14f-4344-89d7-99641f4cd99c"
      },
      "source": [
        "plt.figure(figsize = (10, 6))\n",
        "sns.distplot(df['Balance'])\n",
        "plt.title('Balance', size = 15)\n",
        "plt.show()"
      ],
      "execution_count": 17,
      "outputs": [
        {
          "output_type": "display_data",
          "data": {
            "image/png": "[encoded data removed]",
            "text/plain": [
              "<Figure size 720x432 with 1 Axes>"
            ]
          },
          "metadata": {
            "tags": [],
            "needs_background": "light"
          }
        }
      ]
    },
    {
      "cell_type": "markdown",
      "metadata": {
        "id": "dMmmEWp50Rt-"
      },
      "source": [
        "More customers have 0 balance than other customers <br>Balance is normaly distributed except the customers who have 0 balance"
      ]
    },
    {
      "cell_type": "markdown",
      "metadata": {
        "id": "F_6c3baN0UMO"
      },
      "source": [
        " Seperate the customers and see whether the bank has more customers without balance(balance = 0) or with balance(balance > 0)"
      ]
    },
    {
      "cell_type": "code",
      "metadata": {
        "id": "DQT463P70OeP"
      },
      "source": [
        "balance = np.where(df['Balance'] == 0, 0, 1)"
      ],
      "execution_count": 18,
      "outputs": []
    },
    {
      "cell_type": "code",
      "metadata": {
        "colab": {
          "base_uri": "https://localhost:8080/",
          "height": 283
        },
        "id": "lNivB4RN0ZGf",
        "outputId": "d9c60758-72ab-481f-ea3a-d3c928aed71c"
      },
      "source": [
        "plt.figure(figsize = (6, 4))\n",
        "sns.countplot(balance)\n",
        "plt.title('Customers with balance', size = 15)\n",
        "plt.show()"
      ],
      "execution_count": 19,
      "outputs": [
        {
          "output_type": "display_data",
          "data": {
            "image/png": "[encoded data removed]",
            "text/plain": [
              "<Figure size 432x288 with 1 Axes>"
            ]
          },
          "metadata": {
            "tags": [],
            "needs_background": "light"
          }
        }
      ]
    },
    {
      "cell_type": "markdown",
      "metadata": {
        "id": "ZU4hDLqg0dTo"
      },
      "source": [
        "Bank has more customers who maintain their balance than customers who have 0 balance"
      ]
    },
    {
      "cell_type": "code",
      "metadata": {
        "colab": {
          "base_uri": "https://localhost:8080/",
          "height": 406
        },
        "id": "peSs2L6X0a9l",
        "outputId": "49935afa-055f-4c23-ce42-57f998ccea7a"
      },
      "source": [
        "plt.figure(figsize = (12, 6))\n",
        "sns.countplot(x = df['Geography'], hue = df['Exited'])\n",
        "plt.title('Number of Excited customers countrywise', size = 15)\n",
        "plt.show()"
      ],
      "execution_count": 20,
      "outputs": [
        {
          "output_type": "display_data",
          "data": {
            "image/png": "[encoded data removed]",
            "text/plain": [
              "<Figure size 864x432 with 1 Axes>"
            ]
          },
          "metadata": {
            "tags": [],
            "needs_background": "light"
          }
        }
      ]
    },
    {
      "cell_type": "code",
      "metadata": {
        "colab": {
          "base_uri": "https://localhost:8080/",
          "height": 406
        },
        "id": "_XRI2B7O0fMd",
        "outputId": "a4304173-7107-4a7f-bbc7-ee4ba9086596"
      },
      "source": [
        "plt.figure(figsize = (12, 6))\n",
        "sns.countplot(df['Gender'], hue = df['Exited'])\n",
        "plt.title('Number of Excited customers genderwise', size = 15)\n",
        "plt.show()"
      ],
      "execution_count": 21,
      "outputs": [
        {
          "output_type": "display_data",
          "data": {
            "image/png": "[encoded data removed]",
            "text/plain": [
              "<Figure size 864x432 with 1 Axes>"
            ]
          },
          "metadata": {
            "tags": [],
            "needs_background": "light"
          }
        }
      ]
    },
    {
      "cell_type": "markdown",
      "metadata": {
        "id": "aD8DDr1m0jWL"
      },
      "source": [
        "Less customers excited in countrywise as well as genderwise"
      ]
    },
    {
      "cell_type": "code",
      "metadata": {
        "colab": {
          "base_uri": "https://localhost:8080/",
          "height": 350
        },
        "id": "QzHDPBp10lMl",
        "outputId": "1d3bca5f-02a2-4e10-d376-75efc2ef699f"
      },
      "source": [
        "plt.figure(figsize = (8, 5))\n",
        "sns.countplot(df['Geography'], hue = df['IsActiveMember'])\n",
        "plt.title('Active customers countrywise')\n",
        "plt.show()"
      ],
      "execution_count": 22,
      "outputs": [
        {
          "output_type": "display_data",
          "data": {
            "image/png": "[encoded data removed]",
            "text/plain": [
              "<Figure size 576x360 with 1 Axes>"
            ]
          },
          "metadata": {
            "tags": [],
            "needs_background": "light"
          }
        }
      ]
    },
    {
      "cell_type": "markdown",
      "metadata": {
        "id": "zOaDgr2L0wlw"
      },
      "source": [
        "There is small numer of cusomers are closed their acount in each country"
      ]
    },
    {
      "cell_type": "code",
      "metadata": {
        "id": "bRijm1Ro0pSV"
      },
      "source": [
        "cls_0 = df[df['IsActiveMember'] == 0]"
      ],
      "execution_count": 23,
      "outputs": []
    },
    {
      "cell_type": "code",
      "metadata": {
        "id": "wjYVfM5803jq"
      },
      "source": [
        "france = cls_0[cls_0['Geography'] == 'France']\n",
        "spain = cls_0[cls_0['Geography'] == 'Spain']\n",
        "germany = cls_0[cls_0['Geography'] == 'Germany']"
      ],
      "execution_count": 24,
      "outputs": []
    },
    {
      "cell_type": "code",
      "metadata": {
        "colab": {
          "base_uri": "https://localhost:8080/"
        },
        "id": "NOVDoM9U08sY",
        "outputId": "27532535-7185-4228-8a71-b08ec5ea0573"
      },
      "source": [
        "print(f'{france.shape[0]} customers closed their accounts in france, {spain.shape[0]} customers closed their accounts in spain and \\n{germany.shape[0]} customers closed their account in germany')"
      ],
      "execution_count": 25,
      "outputs": [
        {
          "output_type": "stream",
          "text": [
            "283 customers closed their accounts in france, 114 customers closed their accounts in spain and \n",
            "144 customers closed their account in germany\n"
          ],
          "name": "stdout"
        }
      ]
    },
    {
      "cell_type": "markdown",
      "metadata": {
        "id": "2_xz-2G71CB8"
      },
      "source": [
        "### Hypothesis Testing"
      ]
    },
    {
      "cell_type": "markdown",
      "metadata": {
        "id": "zc288oBh1FZz"
      },
      "source": [
        "Statistical test on data and explore more information from it."
      ]
    },
    {
      "cell_type": "markdown",
      "metadata": {
        "id": "yDl0KSJV1IDl"
      },
      "source": [
        "#### Shapiro–Wilk test"
      ]
    },
    {
      "cell_type": "code",
      "metadata": {
        "id": "Fz3kb8Al0-d-"
      },
      "source": [
        "# import shapiro\n",
        "from scipy.stats import shapiro"
      ],
      "execution_count": 26,
      "outputs": []
    },
    {
      "cell_type": "markdown",
      "metadata": {
        "id": "ktwbJthv1Mrr"
      },
      "source": [
        "create a function to plot the distribution of the continuous values and it's mean"
      ]
    },
    {
      "cell_type": "code",
      "metadata": {
        "id": "LBTTfpfe1Kch"
      },
      "source": [
        "def distribution_plot(data):\n",
        "    plt.figure(figsize = (11, 7))\n",
        "    ax = sns.distplot(data)\n",
        "    plt.axvline(np.mean(data), color = 'red', linestyle = 'dashed')\n",
        "    _, max_ = plt.ylim()\n",
        "    plt.text(np.mean(data) + np.mean(data)/10,\n",
        "               max_ - max_/10,\n",
        "               'Mean:{:.2f}'.format(data.mean()))\n",
        "    return plt.show()"
      ],
      "execution_count": 27,
      "outputs": []
    },
    {
      "cell_type": "code",
      "metadata": {
        "colab": {
          "base_uri": "https://localhost:8080/",
          "height": 442
        },
        "id": "rJCso6Lw1Odn",
        "outputId": "9efa9fc6-cea0-4f02-e32a-8ce5b14ca39e"
      },
      "source": [
        "distribution_plot(df['Age'])"
      ],
      "execution_count": 28,
      "outputs": [
        {
          "output_type": "display_data",
          "data": {
            "image/png": "[encoded data removed]",
            "text/plain": [
              "<Figure size 792x504 with 1 Axes>"
            ]
          },
          "metadata": {
            "tags": [],
            "needs_background": "light"
          }
        }
      ]
    },
    {
      "cell_type": "markdown",
      "metadata": {
        "id": "OVcxYB5i1YQY"
      },
      "source": [
        "It doesn't looks like normal distribution, shapiro wilk test is one of the statistical test used to check whether the sample data drawn from the population is normally distributed or not"
      ]
    },
    {
      "cell_type": "code",
      "metadata": {
        "id": "7uc-HaVr1SCG"
      },
      "source": [
        "sample_age = df['Age'].sample(25)"
      ],
      "execution_count": 29,
      "outputs": []
    },
    {
      "cell_type": "code",
      "metadata": {
        "id": "qCboITvu1aKT"
      },
      "source": [
        "#function to perform shapiro test\n",
        "def shapiro_test(data):\n",
        "    stat, p = shapiro(data)\n",
        "    print(f'Statistical value :{stat}')\n",
        "    print(f'P value is {p}')\n",
        "    if p > 0.05:\n",
        "        print('Normaly distributed, failed to reject Null Hypothesis(H0)')\n",
        "    else:\n",
        "        print('Not a Normal distribution, reject Null Hypothesis(H0)')"
      ],
      "execution_count": 30,
      "outputs": []
    },
    {
      "cell_type": "code",
      "metadata": {
        "colab": {
          "base_uri": "https://localhost:8080/"
        },
        "id": "Ym6iK2ro1b_o",
        "outputId": "ef9e83a9-870b-4e29-e689-1b9d5925cc8a"
      },
      "source": [
        "shapiro_test(sample_age)"
      ],
      "execution_count": 31,
      "outputs": [
        {
          "output_type": "stream",
          "text": [
            "Statistical value :0.8756165504455566\n",
            "P value is 0.005618826486170292\n",
            "Not a Normal distribution, reject Null Hypothesis(H0)\n"
          ],
          "name": "stdout"
        }
      ]
    },
    {
      "cell_type": "markdown",
      "metadata": {
        "id": "s9PPUUlT1wYk"
      },
      "source": [
        "#### independent sample t test"
      ]
    },
    {
      "cell_type": "code",
      "metadata": {
        "id": "eqHYRaKt1e-j"
      },
      "source": [
        "# import library\n",
        "from scipy.stats import ttest_ind"
      ],
      "execution_count": 32,
      "outputs": []
    },
    {
      "cell_type": "markdown",
      "metadata": {
        "id": "M_7rOXZz10SZ"
      },
      "source": [
        "create a function to plot data distribution from two different group"
      ]
    },
    {
      "cell_type": "code",
      "metadata": {
        "id": "WXndju5E1yOd"
      },
      "source": [
        "def plot_two_distribution(data1, data2):\n",
        "    plt.figure(figsize = (11, 7))\n",
        "    ax1 = sns.distplot(data1)\n",
        "    ax2 = sns.distplot(data2)\n",
        "    plt.axvline(np.mean(data1), color = 'red', linestyle = 'dashed')\n",
        "    plt.axvline(np.mean(data2), color = 'blue', linestyle = 'dashed')\n",
        "    return plt.show()"
      ],
      "execution_count": 33,
      "outputs": []
    },
    {
      "cell_type": "code",
      "metadata": {
        "colab": {
          "base_uri": "https://localhost:8080/",
          "height": 453
        },
        "id": "Ubj_tHIi12P-",
        "outputId": "d1951a6b-2e4d-4882-fc1f-6d61c127cad3"
      },
      "source": [
        "plot_two_distribution(df['Balance'], df['EstimatedSalary'])"
      ],
      "execution_count": 34,
      "outputs": [
        {
          "output_type": "display_data",
          "data": {
            "image/png": "[encoded data removed]",
            "text/plain": [
              "<Figure size 792x504 with 1 Axes>"
            ]
          },
          "metadata": {
            "tags": [],
            "needs_background": "light"
          }
        }
      ]
    },
    {
      "cell_type": "markdown",
      "metadata": {
        "id": "LGDWjxlr1934"
      },
      "source": [
        "line which indicates the mean of each population, clearly shows there is difference between both data"
      ]
    },
    {
      "cell_type": "code",
      "metadata": {
        "id": "HghcLap313-v"
      },
      "source": [
        "# function to perform independent sample t-test\n",
        "def ttest_independent(data1, data2):\n",
        "    stat, p = ttest_ind(data1, data2)\n",
        "    print(f'Statistical value :{stat}')\n",
        "    print(f'P value is {p}')\n",
        "    if p > 0.05:\n",
        "        print('There is no difference between both groups, fail to reject Null Hypothesis(H0)')\n",
        "    else:\n",
        "        print('There is difference between both groups, reject Null Hypothesis(H0)')"
      ],
      "execution_count": 35,
      "outputs": []
    },
    {
      "cell_type": "code",
      "metadata": {
        "id": "Ahy_yiOF1_7J"
      },
      "source": [
        "sample_balance = df['Balance'].sample(25)\n",
        "sample_est_salary = df['EstimatedSalary'].sample(25)"
      ],
      "execution_count": 36,
      "outputs": []
    },
    {
      "cell_type": "code",
      "metadata": {
        "colab": {
          "base_uri": "https://localhost:8080/"
        },
        "id": "0WbddraI2CK1",
        "outputId": "14735f0e-1912-4226-97da-375282e03167"
      },
      "source": [
        "ttest_independent(sample_balance, sample_est_salary)"
      ],
      "execution_count": 37,
      "outputs": [
        {
          "output_type": "stream",
          "text": [
            "Statistical value :-2.0356328011396063\n",
            "P value is 0.047327500083147823\n",
            "There is difference between both groups, reject Null Hypothesis(H0)\n"
          ],
          "name": "stdout"
        }
      ]
    },
    {
      "cell_type": "markdown",
      "metadata": {
        "id": "647GEmK92IRj"
      },
      "source": [
        "#### ANOVA test"
      ]
    },
    {
      "cell_type": "code",
      "metadata": {
        "id": "Jrr9QgtU2ETz"
      },
      "source": [
        "# import library\n",
        "from scipy.stats import f_oneway"
      ],
      "execution_count": 38,
      "outputs": []
    },
    {
      "cell_type": "markdown",
      "metadata": {
        "id": "DdbyqH7D2Mw4"
      },
      "source": [
        "one way ANOVA used to check is there any relationship between categorical group which contain more than two category and a continuous gruop"
      ]
    },
    {
      "cell_type": "code",
      "metadata": {
        "id": "uCQU9v7I2KSg"
      },
      "source": [
        "groups = df.groupby('Geography').groups"
      ],
      "execution_count": 39,
      "outputs": []
    },
    {
      "cell_type": "code",
      "metadata": {
        "id": "5fUHzAPw2Opv"
      },
      "source": [
        "france_salary = df['EstimatedSalary'][groups['France']]\n",
        "spain_salary = df['EstimatedSalary'][groups['Spain']]\n",
        "germany_salary = df['EstimatedSalary'][groups['Germany']]"
      ],
      "execution_count": 40,
      "outputs": []
    },
    {
      "cell_type": "code",
      "metadata": {
        "colab": {
          "base_uri": "https://localhost:8080/"
        },
        "id": "LGGkPbmK2QDv",
        "outputId": "fdae0aca-4263-48cb-9f2e-f4868b2e633b"
      },
      "source": [
        "stat, p = f_oneway(france_salary, spain_salary, germany_salary)\n",
        "print(f'P value is {p}')\n",
        "if p > 0.05:\n",
        "    print('There is no difference between the groups, fail to reject Null Hypothesis(H0)')\n",
        "else:\n",
        "    print('Difference between groups, reject Null Hypothesis')"
      ],
      "execution_count": 41,
      "outputs": [
        {
          "output_type": "stream",
          "text": [
            "P value is 0.6862338346148008\n",
            "There is no difference between the groups, fail to reject Null Hypothesis(H0)\n"
          ],
          "name": "stdout"
        }
      ]
    },
    {
      "cell_type": "markdown",
      "metadata": {
        "id": "dimZ_u8X2VMX"
      },
      "source": [
        "Didn't find any difference between country's estimated salary, below ANOVA test conducts on each country's balance"
      ]
    },
    {
      "cell_type": "code",
      "metadata": {
        "id": "fOiWAzBY2Rul"
      },
      "source": [
        "france_balance = df['Balance'][groups['France']]\n",
        "spain_balance = df['Balance'][groups['Spain']]\n",
        "germany_balance = df['Balance'][groups['Germany']]"
      ],
      "execution_count": 42,
      "outputs": []
    },
    {
      "cell_type": "code",
      "metadata": {
        "colab": {
          "base_uri": "https://localhost:8080/"
        },
        "id": "HjQmiY572YC5",
        "outputId": "387b467d-b366-4ee9-de9a-65c4ce458587"
      },
      "source": [
        "stat, p = f_oneway(france_balance, spain_balance, germany_balance)\n",
        "print(f'P value is {p}')\n",
        "if p > 0.05:\n",
        "    print('There is no difference between the groups, fail to reject Null Hypothesis(H0)')\n",
        "else:\n",
        "    print('Difference between groups, reject Null Hypothesis')"
      ],
      "execution_count": 43,
      "outputs": [
        {
          "output_type": "stream",
          "text": [
            "P value is 3.230477437513559e-217\n",
            "Difference between groups, reject Null Hypothesis\n"
          ],
          "name": "stdout"
        }
      ]
    },
    {
      "cell_type": "markdown",
      "metadata": {
        "id": "TOgs_Ion2d8z"
      },
      "source": [
        "ANOVA results shows there is difference between balance between countries, Tukey test should be counduct to know more about it "
      ]
    },
    {
      "cell_type": "markdown",
      "metadata": {
        "id": "Kany0-2A2iSR"
      },
      "source": [
        "#### Tukey's test"
      ]
    },
    {
      "cell_type": "code",
      "metadata": {
        "id": "cKLBJCXj2aF0"
      },
      "source": [
        "# import library\n",
        "from statsmodels.stats.multicomp import pairwise_tukeyhsd"
      ],
      "execution_count": 44,
      "outputs": []
    },
    {
      "cell_type": "code",
      "metadata": {
        "id": "XU_RJ5aG2kuS"
      },
      "source": [
        "def tukey_test(cont, categ):\n",
        "    tukey = pairwise_tukeyhsd(endog= cont,\n",
        "                             groups= categ)\n",
        "    tukey.plot_simultaneous()\n",
        "    plt.vlines(x = np.mean(cont), ymin=-0.5, ymax=len(categ.unique()) - .5, color = 'red')\n",
        "    print(tukey.summary())"
      ],
      "execution_count": 45,
      "outputs": []
    },
    {
      "cell_type": "code",
      "metadata": {
        "colab": {
          "base_uri": "https://localhost:8080/",
          "height": 526
        },
        "id": "bJc0ksgl2nDy",
        "outputId": "12b05a79-e18d-4414-9974-7d10c880bc29"
      },
      "source": [
        "tukey_test(df['Balance'], df['Geography'])"
      ],
      "execution_count": 46,
      "outputs": [
        {
          "output_type": "stream",
          "text": [
            "       Multiple Comparison of Means - Tukey HSD, FWER=0.05       \n",
            "=================================================================\n",
            " group1  group2   meandiff  p-adj     lower       upper    reject\n",
            "-----------------------------------------------------------------\n",
            " France Germany  58499.2688  0.001  54144.5439  62853.9937   True\n",
            " France   Spain   1872.6927 0.5621  -2446.9158   6192.3011  False\n",
            "Germany   Spain -56626.5761  0.001 -61651.2099 -51601.9424   True\n",
            "-----------------------------------------------------------------\n"
          ],
          "name": "stdout"
        },
        {
          "output_type": "display_data",
          "data": {
            "image/png": "[encoded data removed]",
            "text/plain": [
              "<Figure size 720x432 with 1 Axes>"
            ]
          },
          "metadata": {
            "tags": [],
            "needs_background": "light"
          }
        }
      ]
    },
    {
      "cell_type": "markdown",
      "metadata": {
        "id": "reHrJenc2vry"
      },
      "source": [
        "black line shows the minimum and maximum of balance and the dot indicates the mean of each country's balance <br>Red line shows the mean of balance of all countries<br>Germany's balance is too far from the rest of the countries, It clearly shows **Germans maintain their balance very high**"
      ]
    },
    {
      "cell_type": "markdown",
      "metadata": {
        "id": "7sbP1k3W2zPn"
      },
      "source": [
        "#### chi-squared test"
      ]
    },
    {
      "cell_type": "markdown",
      "metadata": {
        "id": "eA-mZCl922Pq"
      },
      "source": [
        "chi-squared test is used to find is there any relationship between two categorical groups"
      ]
    },
    {
      "cell_type": "code",
      "metadata": {
        "id": "cjjzD-6J2pHE"
      },
      "source": [
        "# import library\n",
        "from scipy.stats import chi2_contingency"
      ],
      "execution_count": 47,
      "outputs": []
    },
    {
      "cell_type": "code",
      "metadata": {
        "colab": {
          "base_uri": "https://localhost:8080/",
          "height": 142
        },
        "id": "7mmhmKx_24mI",
        "outputId": "49cd3661-50d9-4ba6-d595-176d2537fed0"
      },
      "source": [
        "contingency_data = pd.crosstab(df['Gender'], df['Geography'])\n",
        "contingency_data"
      ],
      "execution_count": 48,
      "outputs": [
        {
          "output_type": "execute_result",
          "data": {
            "text/html": [
              "<div>\n",
              "<style scoped>\n",
              "    .dataframe tbody tr th:only-of-type {\n",
              "        vertical-align: middle;\n",
              "    }\n",
              "\n",
              "    .dataframe tbody tr th {\n",
              "        vertical-align: top;\n",
              "    }\n",
              "\n",
              "    .dataframe thead th {\n",
              "        text-align: right;\n",
              "    }\n",
              "</style>\n",
              "<table border=\"1\" class=\"dataframe\">\n",
              "  <thead>\n",
              "    <tr style=\"text-align: right;\">\n",
              "      <th>Geography</th>\n",
              "      <th>France</th>\n",
              "      <th>Germany</th>\n",
              "      <th>Spain</th>\n",
              "    </tr>\n",
              "    <tr>\n",
              "      <th>Gender</th>\n",
              "      <th></th>\n",
              "      <th></th>\n",
              "      <th></th>\n",
              "    </tr>\n",
              "  </thead>\n",
              "  <tbody>\n",
              "    <tr>\n",
              "      <th>Female</th>\n",
              "      <td>1292</td>\n",
              "      <td>628</td>\n",
              "      <td>609</td>\n",
              "    </tr>\n",
              "    <tr>\n",
              "      <th>Male</th>\n",
              "      <td>1582</td>\n",
              "      <td>764</td>\n",
              "      <td>817</td>\n",
              "    </tr>\n",
              "  </tbody>\n",
              "</table>\n",
              "</div>"
            ],
            "text/plain": [
              "Geography  France  Germany  Spain\n",
              "Gender                           \n",
              "Female       1292      628    609\n",
              "Male         1582      764    817"
            ]
          },
          "metadata": {
            "tags": []
          },
          "execution_count": 48
        }
      ]
    },
    {
      "cell_type": "markdown",
      "metadata": {
        "id": "YRgNQnrY2_QH"
      },
      "source": [
        "It shows the combination of categories"
      ]
    },
    {
      "cell_type": "code",
      "metadata": {
        "colab": {
          "base_uri": "https://localhost:8080/"
        },
        "id": "o5yHehv428Tt",
        "outputId": "cd12afb8-9843-42b3-b87d-029f615b91ab"
      },
      "source": [
        "stat, p, dof, expected = chi2_contingency(contingency_data)\n",
        "print(f'stats :{np.round(stat, 3)}')\n",
        "print(f'p value is :{np.round(p, 3)}')\n",
        "if p > 0.05:\n",
        "    print('Independent categories')\n",
        "else:\n",
        "    print('Dependent categories')"
      ],
      "execution_count": 49,
      "outputs": [
        {
          "output_type": "stream",
          "text": [
            "stats :2.3\n",
            "p value is :0.317\n",
            "Independent categories\n"
          ],
          "name": "stdout"
        }
      ]
    },
    {
      "cell_type": "code",
      "metadata": {
        "colab": {
          "base_uri": "https://localhost:8080/",
          "height": 667
        },
        "id": "cdyKiTO03BFX",
        "outputId": "a508dfa3-e9d9-42db-b97c-4a9aed083f96"
      },
      "source": [
        "plt.figure(figsize = (12, 10))\n",
        "corr = df.corr()\n",
        "sns.heatmap(corr, annot = True, cmap = plt.cm.CMRmap_r)\n",
        "plt.show()"
      ],
      "execution_count": 50,
      "outputs": [
        {
          "output_type": "display_data",
          "data": {
            "image/png": "[encoded data removed]",
            "text/plain": [
              "<Figure size 864x720 with 2 Axes>"
            ]
          },
          "metadata": {
            "tags": [],
            "needs_background": "light"
          }
        }
      ]
    },
    {
      "cell_type": "markdown",
      "metadata": {
        "id": "8uV9pcgC3GX9"
      },
      "source": [
        "There is no correlation in the data"
      ]
    },
    {
      "cell_type": "markdown",
      "metadata": {
        "id": "7Fj_aoky3Ijk"
      },
      "source": [
        "### Data Wrangling"
      ]
    },
    {
      "cell_type": "markdown",
      "metadata": {
        "id": "HadZ5-xC3MIc"
      },
      "source": [
        "Data wrangling is the process of **data cleaning**"
      ]
    },
    {
      "cell_type": "code",
      "metadata": {
        "colab": {
          "base_uri": "https://localhost:8080/"
        },
        "id": "TTtJQTuI3DEh",
        "outputId": "08a7c900-00ba-4978-b6b9-fd2486d84691"
      },
      "source": [
        "df.isnull().sum()"
      ],
      "execution_count": 51,
      "outputs": [
        {
          "output_type": "execute_result",
          "data": {
            "text/plain": [
              "RowNumber          0\n",
              "CustomerId         0\n",
              "Surname            0\n",
              "CreditScore        0\n",
              "Geography          0\n",
              "Gender             0\n",
              "Age                0\n",
              "Tenure             0\n",
              "Balance            0\n",
              "NumOfProducts      0\n",
              "HasCrCard          0\n",
              "IsActiveMember     0\n",
              "EstimatedSalary    0\n",
              "Exited             0\n",
              "dtype: int64"
            ]
          },
          "metadata": {
            "tags": []
          },
          "execution_count": 51
        }
      ]
    },
    {
      "cell_type": "code",
      "metadata": {
        "colab": {
          "base_uri": "https://localhost:8080/",
          "height": 450
        },
        "id": "NroDD-SH3N3s",
        "outputId": "9cdf86a5-6ab9-40d1-b231-6fdf9a76d7a1"
      },
      "source": [
        "plt.figure(figsize = (8, 6))\n",
        "sns.heatmap(df.isnull())\n",
        "plt.show()"
      ],
      "execution_count": 52,
      "outputs": [
        {
          "output_type": "display_data",
          "data": {
            "image/png": "[encoded data removed]",
            "text/plain": [
              "<Figure size 576x432 with 2 Axes>"
            ]
          },
          "metadata": {
            "tags": [],
            "needs_background": "light"
          }
        }
      ]
    },
    {
      "cell_type": "markdown",
      "metadata": {
        "id": "Cg4ALIzE3TDH"
      },
      "source": [
        "There is no null values in the data, the next step is remove unwanted data..."
      ]
    },
    {
      "cell_type": "code",
      "metadata": {
        "colab": {
          "base_uri": "https://localhost:8080/",
          "height": 224
        },
        "id": "6_TyTb0y3QcJ",
        "outputId": "31efc620-b391-49f5-8dc0-c67f85a5e027"
      },
      "source": [
        "df.head()"
      ],
      "execution_count": 53,
      "outputs": [
        {
          "output_type": "execute_result",
          "data": {
            "text/html": [
              "<div>\n",
              "<style scoped>\n",
              "    .dataframe tbody tr th:only-of-type {\n",
              "        vertical-align: middle;\n",
              "    }\n",
              "\n",
              "    .dataframe tbody tr th {\n",
              "        vertical-align: top;\n",
              "    }\n",
              "\n",
              "    .dataframe thead th {\n",
              "        text-align: right;\n",
              "    }\n",
              "</style>\n",
              "<table border=\"1\" class=\"dataframe\">\n",
              "  <thead>\n",
              "    <tr style=\"text-align: right;\">\n",
              "      <th></th>\n",
              "      <th>RowNumber</th>\n",
              "      <th>CustomerId</th>\n",
              "      <th>Surname</th>\n",
              "      <th>CreditScore</th>\n",
              "      <th>Geography</th>\n",
              "      <th>Gender</th>\n",
              "      <th>Age</th>\n",
              "      <th>Tenure</th>\n",
              "      <th>Balance</th>\n",
              "      <th>NumOfProducts</th>\n",
              "      <th>HasCrCard</th>\n",
              "      <th>IsActiveMember</th>\n",
              "      <th>EstimatedSalary</th>\n",
              "      <th>Exited</th>\n",
              "    </tr>\n",
              "  </thead>\n",
              "  <tbody>\n",
              "    <tr>\n",
              "      <th>0</th>\n",
              "      <td>1</td>\n",
              "      <td>15634602</td>\n",
              "      <td>Hargrave</td>\n",
              "      <td>619</td>\n",
              "      <td>France</td>\n",
              "      <td>Female</td>\n",
              "      <td>42</td>\n",
              "      <td>2</td>\n",
              "      <td>0.00</td>\n",
              "      <td>1</td>\n",
              "      <td>1</td>\n",
              "      <td>1</td>\n",
              "      <td>101348.88</td>\n",
              "      <td>1</td>\n",
              "    </tr>\n",
              "    <tr>\n",
              "      <th>1</th>\n",
              "      <td>2</td>\n",
              "      <td>15647311</td>\n",
              "      <td>Hill</td>\n",
              "      <td>608</td>\n",
              "      <td>Spain</td>\n",
              "      <td>Female</td>\n",
              "      <td>41</td>\n",
              "      <td>1</td>\n",
              "      <td>83807.86</td>\n",
              "      <td>1</td>\n",
              "      <td>0</td>\n",
              "      <td>1</td>\n",
              "      <td>112542.58</td>\n",
              "      <td>0</td>\n",
              "    </tr>\n",
              "    <tr>\n",
              "      <th>2</th>\n",
              "      <td>3</td>\n",
              "      <td>15593897</td>\n",
              "      <td>Carr</td>\n",
              "      <td>650</td>\n",
              "      <td>Spain</td>\n",
              "      <td>Male</td>\n",
              "      <td>25</td>\n",
              "      <td>7</td>\n",
              "      <td>160599.06</td>\n",
              "      <td>2</td>\n",
              "      <td>1</td>\n",
              "      <td>1</td>\n",
              "      <td>28391.52</td>\n",
              "      <td>0</td>\n",
              "    </tr>\n",
              "    <tr>\n",
              "      <th>3</th>\n",
              "      <td>4</td>\n",
              "      <td>15748595</td>\n",
              "      <td>Stanton</td>\n",
              "      <td>689</td>\n",
              "      <td>France</td>\n",
              "      <td>Female</td>\n",
              "      <td>29</td>\n",
              "      <td>1</td>\n",
              "      <td>77556.79</td>\n",
              "      <td>2</td>\n",
              "      <td>1</td>\n",
              "      <td>1</td>\n",
              "      <td>122998.26</td>\n",
              "      <td>0</td>\n",
              "    </tr>\n",
              "    <tr>\n",
              "      <th>4</th>\n",
              "      <td>5</td>\n",
              "      <td>15744109</td>\n",
              "      <td>Hartung</td>\n",
              "      <td>850</td>\n",
              "      <td>France</td>\n",
              "      <td>Male</td>\n",
              "      <td>32</td>\n",
              "      <td>4</td>\n",
              "      <td>0.00</td>\n",
              "      <td>1</td>\n",
              "      <td>1</td>\n",
              "      <td>1</td>\n",
              "      <td>180622.02</td>\n",
              "      <td>0</td>\n",
              "    </tr>\n",
              "  </tbody>\n",
              "</table>\n",
              "</div>"
            ],
            "text/plain": [
              "   RowNumber  CustomerId   Surname  ...  IsActiveMember EstimatedSalary Exited\n",
              "0          1    15634602  Hargrave  ...               1       101348.88      1\n",
              "1          2    15647311      Hill  ...               1       112542.58      0\n",
              "2          3    15593897      Carr  ...               1        28391.52      0\n",
              "3          4    15748595   Stanton  ...               1       122998.26      0\n",
              "4          5    15744109   Hartung  ...               1       180622.02      0\n",
              "\n",
              "[5 rows x 14 columns]"
            ]
          },
          "metadata": {
            "tags": []
          },
          "execution_count": 53
        }
      ]
    },
    {
      "cell_type": "code",
      "metadata": {
        "id": "TvbyPeNv3Ve1"
      },
      "source": [
        "df.drop(['RowNumber', 'CustomerId', 'Surname'], axis = 1, inplace = True)"
      ],
      "execution_count": 54,
      "outputs": []
    },
    {
      "cell_type": "markdown",
      "metadata": {
        "id": "2VnI25zf3YvP"
      },
      "source": [
        "### One-hot Encoding"
      ]
    },
    {
      "cell_type": "code",
      "metadata": {
        "colab": {
          "base_uri": "https://localhost:8080/",
          "height": 224
        },
        "id": "KBnEDgIH3Wym",
        "outputId": "f1b0755f-f778-4a7e-87e0-d4ba5a74e197"
      },
      "source": [
        "df.head()"
      ],
      "execution_count": 55,
      "outputs": [
        {
          "output_type": "execute_result",
          "data": {
            "text/html": [
              "<div>\n",
              "<style scoped>\n",
              "    .dataframe tbody tr th:only-of-type {\n",
              "        vertical-align: middle;\n",
              "    }\n",
              "\n",
              "    .dataframe tbody tr th {\n",
              "        vertical-align: top;\n",
              "    }\n",
              "\n",
              "    .dataframe thead th {\n",
              "        text-align: right;\n",
              "    }\n",
              "</style>\n",
              "<table border=\"1\" class=\"dataframe\">\n",
              "  <thead>\n",
              "    <tr style=\"text-align: right;\">\n",
              "      <th></th>\n",
              "      <th>CreditScore</th>\n",
              "      <th>Geography</th>\n",
              "      <th>Gender</th>\n",
              "      <th>Age</th>\n",
              "      <th>Tenure</th>\n",
              "      <th>Balance</th>\n",
              "      <th>NumOfProducts</th>\n",
              "      <th>HasCrCard</th>\n",
              "      <th>IsActiveMember</th>\n",
              "      <th>EstimatedSalary</th>\n",
              "      <th>Exited</th>\n",
              "    </tr>\n",
              "  </thead>\n",
              "  <tbody>\n",
              "    <tr>\n",
              "      <th>0</th>\n",
              "      <td>619</td>\n",
              "      <td>France</td>\n",
              "      <td>Female</td>\n",
              "      <td>42</td>\n",
              "      <td>2</td>\n",
              "      <td>0.00</td>\n",
              "      <td>1</td>\n",
              "      <td>1</td>\n",
              "      <td>1</td>\n",
              "      <td>101348.88</td>\n",
              "      <td>1</td>\n",
              "    </tr>\n",
              "    <tr>\n",
              "      <th>1</th>\n",
              "      <td>608</td>\n",
              "      <td>Spain</td>\n",
              "      <td>Female</td>\n",
              "      <td>41</td>\n",
              "      <td>1</td>\n",
              "      <td>83807.86</td>\n",
              "      <td>1</td>\n",
              "      <td>0</td>\n",
              "      <td>1</td>\n",
              "      <td>112542.58</td>\n",
              "      <td>0</td>\n",
              "    </tr>\n",
              "    <tr>\n",
              "      <th>2</th>\n",
              "      <td>650</td>\n",
              "      <td>Spain</td>\n",
              "      <td>Male</td>\n",
              "      <td>25</td>\n",
              "      <td>7</td>\n",
              "      <td>160599.06</td>\n",
              "      <td>2</td>\n",
              "      <td>1</td>\n",
              "      <td>1</td>\n",
              "      <td>28391.52</td>\n",
              "      <td>0</td>\n",
              "    </tr>\n",
              "    <tr>\n",
              "      <th>3</th>\n",
              "      <td>689</td>\n",
              "      <td>France</td>\n",
              "      <td>Female</td>\n",
              "      <td>29</td>\n",
              "      <td>1</td>\n",
              "      <td>77556.79</td>\n",
              "      <td>2</td>\n",
              "      <td>1</td>\n",
              "      <td>1</td>\n",
              "      <td>122998.26</td>\n",
              "      <td>0</td>\n",
              "    </tr>\n",
              "    <tr>\n",
              "      <th>4</th>\n",
              "      <td>850</td>\n",
              "      <td>France</td>\n",
              "      <td>Male</td>\n",
              "      <td>32</td>\n",
              "      <td>4</td>\n",
              "      <td>0.00</td>\n",
              "      <td>1</td>\n",
              "      <td>1</td>\n",
              "      <td>1</td>\n",
              "      <td>180622.02</td>\n",
              "      <td>0</td>\n",
              "    </tr>\n",
              "  </tbody>\n",
              "</table>\n",
              "</div>"
            ],
            "text/plain": [
              "   CreditScore Geography  Gender  ...  IsActiveMember  EstimatedSalary  Exited\n",
              "0          619    France  Female  ...               1        101348.88       1\n",
              "1          608     Spain  Female  ...               1        112542.58       0\n",
              "2          650     Spain    Male  ...               1         28391.52       0\n",
              "3          689    France  Female  ...               1        122998.26       0\n",
              "4          850    France    Male  ...               1        180622.02       0\n",
              "\n",
              "[5 rows x 11 columns]"
            ]
          },
          "metadata": {
            "tags": []
          },
          "execution_count": 55
        }
      ]
    },
    {
      "cell_type": "code",
      "metadata": {
        "id": "H76AIwCz3a02"
      },
      "source": [
        "geography = pd.get_dummies(df['Geography'], drop_first= True)\n",
        "gender = pd.get_dummies(df['Gender'], drop_first= True)"
      ],
      "execution_count": 56,
      "outputs": []
    },
    {
      "cell_type": "code",
      "metadata": {
        "id": "uAAKTt1r3c04"
      },
      "source": [
        "df_new = pd.concat([df, geography, gender], axis = 1)"
      ],
      "execution_count": 57,
      "outputs": []
    },
    {
      "cell_type": "code",
      "metadata": {
        "colab": {
          "base_uri": "https://localhost:8080/",
          "height": 131
        },
        "id": "1gvdQbj03eZq",
        "outputId": "115661a0-afd6-4320-ff68-1c71bc1985f2"
      },
      "source": [
        "df_new.head(2)"
      ],
      "execution_count": 58,
      "outputs": [
        {
          "output_type": "execute_result",
          "data": {
            "text/html": [
              "<div>\n",
              "<style scoped>\n",
              "    .dataframe tbody tr th:only-of-type {\n",
              "        vertical-align: middle;\n",
              "    }\n",
              "\n",
              "    .dataframe tbody tr th {\n",
              "        vertical-align: top;\n",
              "    }\n",
              "\n",
              "    .dataframe thead th {\n",
              "        text-align: right;\n",
              "    }\n",
              "</style>\n",
              "<table border=\"1\" class=\"dataframe\">\n",
              "  <thead>\n",
              "    <tr style=\"text-align: right;\">\n",
              "      <th></th>\n",
              "      <th>CreditScore</th>\n",
              "      <th>Geography</th>\n",
              "      <th>Gender</th>\n",
              "      <th>Age</th>\n",
              "      <th>Tenure</th>\n",
              "      <th>Balance</th>\n",
              "      <th>NumOfProducts</th>\n",
              "      <th>HasCrCard</th>\n",
              "      <th>IsActiveMember</th>\n",
              "      <th>EstimatedSalary</th>\n",
              "      <th>Exited</th>\n",
              "      <th>Germany</th>\n",
              "      <th>Spain</th>\n",
              "      <th>Male</th>\n",
              "    </tr>\n",
              "  </thead>\n",
              "  <tbody>\n",
              "    <tr>\n",
              "      <th>0</th>\n",
              "      <td>619</td>\n",
              "      <td>France</td>\n",
              "      <td>Female</td>\n",
              "      <td>42</td>\n",
              "      <td>2</td>\n",
              "      <td>0.00</td>\n",
              "      <td>1</td>\n",
              "      <td>1</td>\n",
              "      <td>1</td>\n",
              "      <td>101348.88</td>\n",
              "      <td>1</td>\n",
              "      <td>0</td>\n",
              "      <td>0</td>\n",
              "      <td>0</td>\n",
              "    </tr>\n",
              "    <tr>\n",
              "      <th>1</th>\n",
              "      <td>608</td>\n",
              "      <td>Spain</td>\n",
              "      <td>Female</td>\n",
              "      <td>41</td>\n",
              "      <td>1</td>\n",
              "      <td>83807.86</td>\n",
              "      <td>1</td>\n",
              "      <td>0</td>\n",
              "      <td>1</td>\n",
              "      <td>112542.58</td>\n",
              "      <td>0</td>\n",
              "      <td>0</td>\n",
              "      <td>1</td>\n",
              "      <td>0</td>\n",
              "    </tr>\n",
              "  </tbody>\n",
              "</table>\n",
              "</div>"
            ],
            "text/plain": [
              "   CreditScore Geography  Gender  Age  ...  Exited  Germany  Spain  Male\n",
              "0          619    France  Female   42  ...       1        0      0     0\n",
              "1          608     Spain  Female   41  ...       0        0      1     0\n",
              "\n",
              "[2 rows x 14 columns]"
            ]
          },
          "metadata": {
            "tags": []
          },
          "execution_count": 58
        }
      ]
    },
    {
      "cell_type": "code",
      "metadata": {
        "id": "jjgfAdmr3f_j"
      },
      "source": [
        "df_new.drop(['Geography', 'Gender'], axis = 1, inplace = True)"
      ],
      "execution_count": 59,
      "outputs": []
    },
    {
      "cell_type": "code",
      "metadata": {
        "colab": {
          "base_uri": "https://localhost:8080/",
          "height": 131
        },
        "id": "PfM_Rg6d3h6H",
        "outputId": "649d784c-2061-4a40-ce36-f7fcbcebb466"
      },
      "source": [
        "df_new.head(2)"
      ],
      "execution_count": 60,
      "outputs": [
        {
          "output_type": "execute_result",
          "data": {
            "text/html": [
              "<div>\n",
              "<style scoped>\n",
              "    .dataframe tbody tr th:only-of-type {\n",
              "        vertical-align: middle;\n",
              "    }\n",
              "\n",
              "    .dataframe tbody tr th {\n",
              "        vertical-align: top;\n",
              "    }\n",
              "\n",
              "    .dataframe thead th {\n",
              "        text-align: right;\n",
              "    }\n",
              "</style>\n",
              "<table border=\"1\" class=\"dataframe\">\n",
              "  <thead>\n",
              "    <tr style=\"text-align: right;\">\n",
              "      <th></th>\n",
              "      <th>CreditScore</th>\n",
              "      <th>Age</th>\n",
              "      <th>Tenure</th>\n",
              "      <th>Balance</th>\n",
              "      <th>NumOfProducts</th>\n",
              "      <th>HasCrCard</th>\n",
              "      <th>IsActiveMember</th>\n",
              "      <th>EstimatedSalary</th>\n",
              "      <th>Exited</th>\n",
              "      <th>Germany</th>\n",
              "      <th>Spain</th>\n",
              "      <th>Male</th>\n",
              "    </tr>\n",
              "  </thead>\n",
              "  <tbody>\n",
              "    <tr>\n",
              "      <th>0</th>\n",
              "      <td>619</td>\n",
              "      <td>42</td>\n",
              "      <td>2</td>\n",
              "      <td>0.00</td>\n",
              "      <td>1</td>\n",
              "      <td>1</td>\n",
              "      <td>1</td>\n",
              "      <td>101348.88</td>\n",
              "      <td>1</td>\n",
              "      <td>0</td>\n",
              "      <td>0</td>\n",
              "      <td>0</td>\n",
              "    </tr>\n",
              "    <tr>\n",
              "      <th>1</th>\n",
              "      <td>608</td>\n",
              "      <td>41</td>\n",
              "      <td>1</td>\n",
              "      <td>83807.86</td>\n",
              "      <td>1</td>\n",
              "      <td>0</td>\n",
              "      <td>1</td>\n",
              "      <td>112542.58</td>\n",
              "      <td>0</td>\n",
              "      <td>0</td>\n",
              "      <td>1</td>\n",
              "      <td>0</td>\n",
              "    </tr>\n",
              "  </tbody>\n",
              "</table>\n",
              "</div>"
            ],
            "text/plain": [
              "   CreditScore  Age  Tenure   Balance  ...  Exited  Germany  Spain  Male\n",
              "0          619   42       2      0.00  ...       1        0      0     0\n",
              "1          608   41       1  83807.86  ...       0        0      1     0\n",
              "\n",
              "[2 rows x 12 columns]"
            ]
          },
          "metadata": {
            "tags": []
          },
          "execution_count": 60
        }
      ]
    },
    {
      "cell_type": "markdown",
      "metadata": {
        "id": "hWYs-iVh3pFJ"
      },
      "source": [
        "Now the data is cleaned and ready to fit"
      ]
    },
    {
      "cell_type": "code",
      "metadata": {
        "id": "A9ud4KJv3mmx"
      },
      "source": [
        "X = df_new.drop(['IsActiveMember'], axis = 1).copy()\n",
        "y = df_new['IsActiveMember'].copy()"
      ],
      "execution_count": 61,
      "outputs": []
    },
    {
      "cell_type": "markdown",
      "metadata": {
        "id": "ANKzX3TT31-D"
      },
      "source": [
        "<div class=\"alert alert-block alert-info\" style=\"margin-top: 20px\">\n",
        "<h4>check the data before fit,</h4>\n",
        "<h4>whether the data is balance or imbalance</h4>\n",
        "</div>\n"
      ]
    },
    {
      "cell_type": "markdown",
      "metadata": {
        "id": "gESt_cmF38BD"
      },
      "source": [
        "If the data is imbalance the model will acts as bias. It's Not a good model even it gives high accuracy"
      ]
    },
    {
      "cell_type": "code",
      "metadata": {
        "colab": {
          "base_uri": "https://localhost:8080/"
        },
        "id": "X7iUPL3T3wnm",
        "outputId": "1bbc1256-67ff-46c6-b369-4eca65273f31"
      },
      "source": [
        "y.value_counts()"
      ],
      "execution_count": 62,
      "outputs": [
        {
          "output_type": "execute_result",
          "data": {
            "text/plain": [
              "1    5151\n",
              "0     541\n",
              "Name: IsActiveMember, dtype: int64"
            ]
          },
          "metadata": {
            "tags": []
          },
          "execution_count": 62
        }
      ]
    },
    {
      "cell_type": "markdown",
      "metadata": {
        "id": "-s-LHXsq4Ca7"
      },
      "source": [
        "The data is imabalanced, to make it a balanced one, there is few techniques there <br>Under sampling, Over sampling, create many models and take majority votes"
      ]
    },
    {
      "cell_type": "markdown",
      "metadata": {
        "id": "qbgPg4Zt4GCT"
      },
      "source": [
        "**SMOTE**, one of the functon from over sampling used to make data balance by creating synthetic data on minority class"
      ]
    },
    {
      "cell_type": "code",
      "metadata": {
        "id": "wdeUa0sS4A6_"
      },
      "source": [
        "# import library\n",
        "from imblearn.over_sampling import SMOTE"
      ],
      "execution_count": 63,
      "outputs": []
    },
    {
      "cell_type": "code",
      "metadata": {
        "id": "PNXEWcEx4IAV"
      },
      "source": [
        "smote = SMOTE(sampling_strategy= 'minority')"
      ],
      "execution_count": 64,
      "outputs": []
    },
    {
      "cell_type": "code",
      "metadata": {
        "id": "H9mJsQIo4J4b"
      },
      "source": [
        "X_sm, y_sm = smote.fit_resample(X, y)"
      ],
      "execution_count": 65,
      "outputs": []
    },
    {
      "cell_type": "markdown",
      "metadata": {
        "id": "u49lPU2A4OTG"
      },
      "source": [
        "The data balanced using SMOTE"
      ]
    },
    {
      "cell_type": "markdown",
      "metadata": {
        "id": "8tsQU6qJ4eBs"
      },
      "source": [
        "target values have equal number of classes **now it's ready to fit**"
      ]
    },
    {
      "cell_type": "markdown",
      "metadata": {
        "id": "7_5mFyL54h3d"
      },
      "source": [
        "### Training Data"
      ]
    },
    {
      "cell_type": "code",
      "metadata": {
        "id": "qlMMVEi-4QRU"
      },
      "source": [
        "# import library\n",
        "from sklearn.model_selection import train_test_split\n",
        "from sklearn.ensemble import RandomForestClassifier"
      ],
      "execution_count": 85,
      "outputs": []
    },
    {
      "cell_type": "code",
      "metadata": {
        "id": "bDbktFnt4kOt"
      },
      "source": [
        "X_train, X_test, y_train, y_test = train_test_split(X_sm, y_sm, test_size=0.2, random_state=0, stratify= y_sm)"
      ],
      "execution_count": 107,
      "outputs": []
    },
    {
      "cell_type": "code",
      "metadata": {
        "id": "0vdtZMPj4vR7"
      },
      "source": [
        "rf_classifier = RandomForestClassifier().fit(X_train, y_train)"
      ],
      "execution_count": 108,
      "outputs": []
    },
    {
      "cell_type": "markdown",
      "metadata": {
        "id": "bSYzD38O40xm"
      },
      "source": [
        "### Testing Data"
      ]
    },
    {
      "cell_type": "code",
      "metadata": {
        "id": "95AGHziu4yGv"
      },
      "source": [
        "pred = rf_classifier.predict(X_test)"
      ],
      "execution_count": 109,
      "outputs": []
    },
    {
      "cell_type": "code",
      "metadata": {
        "id": "frwVv3v_42p-"
      },
      "source": [
        "# import library\n",
        "from sklearn.metrics import accuracy_score, classification_report, confusion_matrix, roc_auc_score, roc_curve"
      ],
      "execution_count": 110,
      "outputs": []
    },
    {
      "cell_type": "markdown",
      "metadata": {
        "id": "h0W62Rp146g_"
      },
      "source": [
        "### Accuracy"
      ]
    },
    {
      "cell_type": "code",
      "metadata": {
        "colab": {
          "base_uri": "https://localhost:8080/"
        },
        "id": "dHLa2inZ44Ej",
        "outputId": "144d41e4-de70-49f9-e78e-3ed3e8f07761"
      },
      "source": [
        "print(f'Accuracy score is :{accuracy_score(y_test, pred)}')"
      ],
      "execution_count": 111,
      "outputs": [
        {
          "output_type": "stream",
          "text": [
            "Accuracy score is :0.9495390587093644\n"
          ],
          "name": "stdout"
        }
      ]
    },
    {
      "cell_type": "code",
      "metadata": {
        "colab": {
          "base_uri": "https://localhost:8080/"
        },
        "id": "LIvgRzTd487I",
        "outputId": "20f7e6a5-a704-4dd2-80b3-2652a20359ed"
      },
      "source": [
        "print(classification_report(y_test, pred))"
      ],
      "execution_count": 112,
      "outputs": [
        {
          "output_type": "stream",
          "text": [
            "              precision    recall  f1-score   support\n",
            "\n",
            "           0       0.99      0.91      0.95      1031\n",
            "           1       0.91      0.99      0.95      1030\n",
            "\n",
            "    accuracy                           0.95      2061\n",
            "   macro avg       0.95      0.95      0.95      2061\n",
            "weighted avg       0.95      0.95      0.95      2061\n",
            "\n"
          ],
          "name": "stdout"
        }
      ]
    },
    {
      "cell_type": "markdown",
      "metadata": {
        "id": "619Uqfeq5CZH"
      },
      "source": [
        "Model gives equal precision, recall and f1-score for both classes"
      ]
    },
    {
      "cell_type": "code",
      "metadata": {
        "id": "7UdkZqLW4-1J"
      },
      "source": [
        "# to plot confusion matrix\n",
        "def plot_confusion_matrix(conf_matrix, class_name, figsize = (8, 6), fontsize = 13):\n",
        "    plt.figure(figsize = figsize)\n",
        "    d_frame = pd.DataFrame(conf_matrix, index = class_name, columns = class_name)\n",
        "    try:\n",
        "        heatmap = sns.heatmap(d_frame, annot = True, fmt='d')\n",
        "    except ValueError:\n",
        "        raise ValueError('Values must be integers')\n",
        "    heatmap.xaxis.set_ticklabels(heatmap.xaxis.get_ticklabels(), rotation = 0, fontsize = fontsize)\n",
        "    heatmap.yaxis.set_ticklabels(heatmap.yaxis.get_ticklabels(), rotation = 0, fontsize = fontsize)\n",
        "    plt.xlabel('Prediction')\n",
        "    plt.ylabel('Actual')\n",
        "    plt.show()"
      ],
      "execution_count": 113,
      "outputs": []
    },
    {
      "cell_type": "code",
      "metadata": {
        "colab": {
          "base_uri": "https://localhost:8080/",
          "height": 391
        },
        "id": "1oZ7v_C65EnX",
        "outputId": "39e66431-43fc-4922-c529-880e9f23a7a9"
      },
      "source": [
        "cm = confusion_matrix(y_test, pred)\n",
        "plot_confusion_matrix(cm, ['Active member', 'Not Active member'])"
      ],
      "execution_count": 114,
      "outputs": [
        {
          "output_type": "display_data",
          "data": {
            "image/png": "[encoded data removed]",
            "text/plain": [
              "<Figure size 576x432 with 2 Axes>"
            ]
          },
          "metadata": {
            "tags": [],
            "needs_background": "light"
          }
        }
      ]
    },
    {
      "cell_type": "code",
      "metadata": {
        "id": "eSiAGJjK5HPP"
      },
      "source": [
        "# to generate roc curve\n",
        "def generate_roc_curve(model, X_test):\n",
        "    plt.figure(figsize = (10, 7))\n",
        "    y_pred_prob = model.predict_proba(X_test)[:, 1]\n",
        "    roc_score = roc_auc_score(y_test, y_pred_prob)\n",
        "    fpr, tpr, threshold = roc_curve(y_test, y_pred_prob)\n",
        "    plt.plot(fpr, tpr, color = 'red', label = 'ROC Score :'+ str(roc_score))\n",
        "    plt.title('ROC Curve', size = 15)\n",
        "    plt.legend(loc = 4)\n",
        "    plt.show()"
      ],
      "execution_count": 115,
      "outputs": []
    },
    {
      "cell_type": "code",
      "metadata": {
        "colab": {
          "base_uri": "https://localhost:8080/",
          "height": 446
        },
        "id": "H7bW8S_k5KDc",
        "outputId": "c6cfac24-29ca-4c45-e49a-81f8fad5cbe4"
      },
      "source": [
        "generate_roc_curve(rf_classifier, X_test)"
      ],
      "execution_count": 118,
      "outputs": [
        {
          "output_type": "display_data",
          "data": {
            "image/png": "[encoded data removed]",
            "text/plain": [
              "<Figure size 720x504 with 1 Axes>"
            ]
          },
          "metadata": {
            "tags": [],
            "needs_background": "light"
          }
        }
      ]
    },
    {
      "cell_type": "markdown",
      "metadata": {
        "id": "fEQisyZF5Y98"
      },
      "source": [
        "### hyperparameter tuning"
      ]
    },
    {
      "cell_type": "markdown",
      "metadata": {
        "id": "mCClb2Dz5bCX"
      },
      "source": [
        "hyperparameters will be tune. So, that the model can optimally solve the problem"
      ]
    },
    {
      "cell_type": "code",
      "metadata": {
        "id": "_LME00EU5Lrq"
      },
      "source": [
        "# import library\n",
        "from sklearn.model_selection import GridSearchCV"
      ],
      "execution_count": 119,
      "outputs": []
    },
    {
      "cell_type": "code",
      "metadata": {
        "id": "b5sV4nl95dUH"
      },
      "source": [
        "params = [\n",
        "          {'criterion' :['gini'], 'n_estimators' : [100, 300, 500], 'max_depth' : [5, 8, 15],\n",
        "          'min_samples_split' : [2, 5, 10], 'min_samples_leaf' : [1, 2, 5]},\n",
        "          {'criterion' :['entropy'], 'n_estimators' : [100, 300, 500], 'max_depth' : [5, 8, 15],\n",
        "          'min_samples_split' : [2, 5, 10], 'min_samples_leaf' : [1, 2, 5]}\n",
        "]"
      ],
      "execution_count": 120,
      "outputs": []
    },
    {
      "cell_type": "code",
      "metadata": {
        "id": "Kq0lpCeZ5fkX"
      },
      "source": [
        "model = RandomForestClassifier()"
      ],
      "execution_count": 121,
      "outputs": []
    },
    {
      "cell_type": "code",
      "metadata": {
        "id": "bXweirrO5iRm"
      },
      "source": [
        "grs = GridSearchCV(estimator=model, param_grid= params, scoring='accuracy', cv = 10, n_jobs= -1)"
      ],
      "execution_count": 122,
      "outputs": []
    },
    {
      "cell_type": "code",
      "metadata": {
        "id": "58UiegYe5kDC"
      },
      "source": [
        "gs = grs.fit(X_train, y_train)"
      ],
      "execution_count": 123,
      "outputs": []
    },
    {
      "cell_type": "code",
      "metadata": {
        "colab": {
          "base_uri": "https://localhost:8080/"
        },
        "id": "pNWq_clJF1Jc",
        "outputId": "cf13abee-0e89-4d56-8459-a58f382e6264"
      },
      "source": [
        "gs.best_score_"
      ],
      "execution_count": 124,
      "outputs": [
        {
          "output_type": "execute_result",
          "data": {
            "text/plain": [
              "0.9356887319799941"
            ]
          },
          "metadata": {
            "tags": []
          },
          "execution_count": 124
        }
      ]
    },
    {
      "cell_type": "code",
      "metadata": {
        "colab": {
          "base_uri": "https://localhost:8080/"
        },
        "id": "dlhlsBP15l1B",
        "outputId": "06d69df1-03ff-4ec3-d730-a4720f307285"
      },
      "source": [
        "gs.best_params_"
      ],
      "execution_count": 125,
      "outputs": [
        {
          "output_type": "execute_result",
          "data": {
            "text/plain": [
              "{'criterion': 'gini',\n",
              " 'max_depth': 15,\n",
              " 'min_samples_leaf': 1,\n",
              " 'min_samples_split': 2,\n",
              " 'n_estimators': 100}"
            ]
          },
          "metadata": {
            "tags": []
          },
          "execution_count": 125
        }
      ]
    },
    {
      "cell_type": "code",
      "metadata": {
        "id": "pf5A_CLI5r8k"
      },
      "source": [
        "rc_model = RandomForestClassifier(criterion='gini', max_depth=15, \n",
        "                                  min_samples_leaf=1, min_samples_split=2, \n",
        "                                  n_estimators=100).fit(X_train, y_train)"
      ],
      "execution_count": 126,
      "outputs": []
    },
    {
      "cell_type": "code",
      "metadata": {
        "id": "0Y-TDxne5uAj"
      },
      "source": [
        "pred = rc_model.predict(X_test)"
      ],
      "execution_count": 127,
      "outputs": []
    },
    {
      "cell_type": "code",
      "metadata": {
        "colab": {
          "base_uri": "https://localhost:8080/"
        },
        "id": "q0Mn4k_k5v63",
        "outputId": "4d02b4ab-6368-4767-faad-53a552645f13"
      },
      "source": [
        "print(f'Accuracy is :{accuracy_score(y_test, pred)}')"
      ],
      "execution_count": 128,
      "outputs": [
        {
          "output_type": "stream",
          "text": [
            "Accuracy is :0.9403202328966521\n"
          ],
          "name": "stdout"
        }
      ]
    },
    {
      "cell_type": "code",
      "metadata": {
        "colab": {
          "base_uri": "https://localhost:8080/"
        },
        "id": "tYAaMu6p5xyF",
        "outputId": "57302b72-dc5a-42fd-fe3e-0493da879d31"
      },
      "source": [
        "print(classification_report(y_test, pred))"
      ],
      "execution_count": 129,
      "outputs": [
        {
          "output_type": "stream",
          "text": [
            "              precision    recall  f1-score   support\n",
            "\n",
            "           0       1.00      0.88      0.94      1031\n",
            "           1       0.90      1.00      0.94      1030\n",
            "\n",
            "    accuracy                           0.94      2061\n",
            "   macro avg       0.95      0.94      0.94      2061\n",
            "weighted avg       0.95      0.94      0.94      2061\n",
            "\n"
          ],
          "name": "stdout"
        }
      ]
    },
    {
      "cell_type": "code",
      "metadata": {
        "colab": {
          "base_uri": "https://localhost:8080/",
          "height": 391
        },
        "id": "59hTzNYH5z2D",
        "outputId": "227e5412-0786-4953-da21-a70b9cfb41ed"
      },
      "source": [
        "con_mat = confusion_matrix(y_test, pred)\n",
        "plot_confusion_matrix(con_mat, ['Active member', 'Not Active member'])"
      ],
      "execution_count": 130,
      "outputs": [
        {
          "output_type": "display_data",
          "data": {
            "image/png": "[encoded data removed]",
            "text/plain": [
              "<Figure size 576x432 with 2 Axes>"
            ]
          },
          "metadata": {
            "tags": [],
            "needs_background": "light"
          }
        }
      ]
    },
    {
      "cell_type": "code",
      "metadata": {
        "colab": {
          "base_uri": "https://localhost:8080/",
          "height": 446
        },
        "id": "RigLoevY510l",
        "outputId": "9154cee4-7837-4397-cf10-391c28e1ca1f"
      },
      "source": [
        "generate_roc_curve(rc_model, X_test)"
      ],
      "execution_count": 131,
      "outputs": [
        {
          "output_type": "display_data",
          "data": {
            "image/png": "[encoded data removed]",
            "text/plain": [
              "<Figure size 720x504 with 1 Axes>"
            ]
          },
          "metadata": {
            "tags": [],
            "needs_background": "light"
          }
        }
      ]
    },
    {
      "cell_type": "markdown",
      "metadata": {
        "id": "6E-LznZ_CACL"
      },
      "source": [
        "It decrease false positive and increase true negative.<br>Most of the time Random forest works well without hyperparameter tuning. It works good and gives better result with it’s default parameter."
      ]
    },
    {
      "cell_type": "markdown",
      "metadata": {
        "id": "tmcqpF8nCnU0"
      },
      "source": [
        "### Results"
      ]
    },
    {
      "cell_type": "markdown",
      "metadata": {
        "id": "ETC3iXcNCrae"
      },
      "source": [
        "Bank has more customers from France than Spain and Germany. Even though German customers are less they maintain high balance in their accounts. Bank has more Male customers than Female customers. Most of the time the customers purchased 1 or 2 products only. Majority of Bank customers have credit cards. More number of customers maintain their balance 0. Less customers are excited by the Bank (reason may – poor service, schemes, interest, etc.). There is no relationship between the estimated salary and balance. Certain customers closed their accounts in each country."
      ]
    },
    {
      "cell_type": "markdown",
      "metadata": {
        "id": "AoO91P2EDCnb"
      },
      "source": [
        "### Conclusion"
      ]
    },
    {
      "cell_type": "markdown",
      "metadata": {
        "id": "8WdwxjqxDOgx"
      },
      "source": [
        "The purpose of this project is to help the Bank to retain their customers and make more customers and profit."
      ]
    },
    {
      "cell_type": "markdown",
      "metadata": {
        "id": "L0Ib_g20DRoY"
      },
      "source": [
        "We could see only less customers are excited by the Bank. To retain the customers, the Bank must provide good services, schemes, etc."
      ]
    },
    {
      "cell_type": "markdown",
      "metadata": {
        "id": "EzzbiCCEDU8a"
      },
      "source": [
        "To make more profit the bank should open branches in Germany, where the customers maintain their balance high."
      ]
    },
    {
      "cell_type": "markdown",
      "metadata": {
        "id": "kafV4pxoDYxu"
      },
      "source": [
        "---"
      ]
    }
  ]
}