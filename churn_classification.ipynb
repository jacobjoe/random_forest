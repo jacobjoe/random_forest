{
 "cells": [
  {
   "cell_type": "markdown",
   "metadata": {
    "id": "wX8nMQMXxGty"
   },
   "source": [
    "# Churn Modelling"
   ]
  },
  {
   "cell_type": "markdown",
   "metadata": {
    "id": "bMuAl_RixheJ"
   },
   "source": [
    "**G Henry Jacob**"
   ]
  },
  {
   "cell_type": "markdown",
   "metadata": {
    "id": "oKk9xT-qxmJ9"
   },
   "source": [
    "18th April 2021"
   ]
  },
  {
   "cell_type": "markdown",
   "metadata": {
    "id": "bueE6bCPxtJM"
   },
   "source": [
    "### Introduction"
   ]
  },
  {
   "cell_type": "markdown",
   "metadata": {
    "id": "hPDlmY6exxBh"
   },
   "source": [
    "Churn_Modelling data set contains details of a bank's customers and the target variable is a binary variable reflecting the fact whether the customer left the bank (closed his account) or he continues to be a customer."
   ]
  },
  {
   "cell_type": "markdown",
   "metadata": {
    "id": "Kr9XgaQpx0r3"
   },
   "source": [
    "![](https://i2.cdn.turner.com/money/2011/08/30/pf/hurricane_irene_banks_waive_fees/bank-branch.ju.top.jpg)"
   ]
  },
  {
   "cell_type": "markdown",
   "metadata": {
    "id": "klHZ8XZux4fk"
   },
   "source": [
    "### Business Problem"
   ]
  },
  {
   "cell_type": "markdown",
   "metadata": {
    "id": "sZkrFzYsx7Om"
   },
   "source": [
    "The aim is to help the bank to retain their customers. Our findings will help bank to understand their customers and the factors associated with the customer's need and fulfill them."
   ]
  },
  {
   "cell_type": "markdown",
   "metadata": {
    "id": "joCaEq-vx-Aq"
   },
   "source": [
    "### Methodology"
   ]
  },
  {
   "cell_type": "markdown",
   "metadata": {
    "id": "5yhzpwrIyA3Q"
   },
   "source": [
    "We will be creating our model with the help of Python so we start off by importing all the required packages."
   ]
  },
  {
   "cell_type": "code",
   "execution_count": 1,
   "metadata": {
    "id": "L-2lriadxdgq"
   },
   "outputs": [],
   "source": [
    "import numpy as np\n",
    "import pandas as pd\n",
    "import seaborn as sns\n",
    "import matplotlib.pyplot as plt\n",
    "%matplotlib inline\n",
    "import warnings \n",
    "warnings.filterwarnings('ignore')"
   ]
  },
  {
   "cell_type": "markdown",
   "metadata": {
    "id": "A4jCZhQ-yJPq"
   },
   "source": [
    "### Collecting Data"
   ]
  },
  {
   "cell_type": "code",
   "execution_count": 2,
   "metadata": {
    "colab": {
     "base_uri": "https://localhost:8080/",
     "height": 224
    },
    "id": "rEBy3bg3yFtF",
    "outputId": "e9833f52-b5ec-4290-a15e-e5a851666a7d"
   },
   "outputs": [
    {
     "data": {
      "text/html": [
       "<div>\n",
       "<style scoped>\n",
       "    .dataframe tbody tr th:only-of-type {\n",
       "        vertical-align: middle;\n",
       "    }\n",
       "\n",
       "    .dataframe tbody tr th {\n",
       "        vertical-align: top;\n",
       "    }\n",
       "\n",
       "    .dataframe thead th {\n",
       "        text-align: right;\n",
       "    }\n",
       "</style>\n",
       "<table border=\"1\" class=\"dataframe\">\n",
       "  <thead>\n",
       "    <tr style=\"text-align: right;\">\n",
       "      <th></th>\n",
       "      <th>RowNumber</th>\n",
       "      <th>CustomerId</th>\n",
       "      <th>Surname</th>\n",
       "      <th>CreditScore</th>\n",
       "      <th>Geography</th>\n",
       "      <th>Gender</th>\n",
       "      <th>Age</th>\n",
       "      <th>Tenure</th>\n",
       "      <th>Balance</th>\n",
       "      <th>NumOfProducts</th>\n",
       "      <th>HasCrCard</th>\n",
       "      <th>IsActiveMember</th>\n",
       "      <th>EstimatedSalary</th>\n",
       "      <th>Exited</th>\n",
       "    </tr>\n",
       "  </thead>\n",
       "  <tbody>\n",
       "    <tr>\n",
       "      <th>0</th>\n",
       "      <td>1</td>\n",
       "      <td>15634602</td>\n",
       "      <td>Hargrave</td>\n",
       "      <td>619</td>\n",
       "      <td>France</td>\n",
       "      <td>Female</td>\n",
       "      <td>42</td>\n",
       "      <td>2</td>\n",
       "      <td>0.00</td>\n",
       "      <td>1</td>\n",
       "      <td>1</td>\n",
       "      <td>1</td>\n",
       "      <td>101348.88</td>\n",
       "      <td>1</td>\n",
       "    </tr>\n",
       "    <tr>\n",
       "      <th>1</th>\n",
       "      <td>2</td>\n",
       "      <td>15647311</td>\n",
       "      <td>Hill</td>\n",
       "      <td>608</td>\n",
       "      <td>Spain</td>\n",
       "      <td>Female</td>\n",
       "      <td>41</td>\n",
       "      <td>1</td>\n",
       "      <td>83807.86</td>\n",
       "      <td>1</td>\n",
       "      <td>0</td>\n",
       "      <td>1</td>\n",
       "      <td>112542.58</td>\n",
       "      <td>0</td>\n",
       "    </tr>\n",
       "    <tr>\n",
       "      <th>2</th>\n",
       "      <td>3</td>\n",
       "      <td>15593897</td>\n",
       "      <td>Carr</td>\n",
       "      <td>650</td>\n",
       "      <td>Spain</td>\n",
       "      <td>Male</td>\n",
       "      <td>25</td>\n",
       "      <td>7</td>\n",
       "      <td>160599.06</td>\n",
       "      <td>2</td>\n",
       "      <td>1</td>\n",
       "      <td>1</td>\n",
       "      <td>28391.52</td>\n",
       "      <td>0</td>\n",
       "    </tr>\n",
       "    <tr>\n",
       "      <th>3</th>\n",
       "      <td>4</td>\n",
       "      <td>15748595</td>\n",
       "      <td>Stanton</td>\n",
       "      <td>689</td>\n",
       "      <td>France</td>\n",
       "      <td>Female</td>\n",
       "      <td>29</td>\n",
       "      <td>1</td>\n",
       "      <td>77556.79</td>\n",
       "      <td>2</td>\n",
       "      <td>1</td>\n",
       "      <td>1</td>\n",
       "      <td>122998.26</td>\n",
       "      <td>0</td>\n",
       "    </tr>\n",
       "    <tr>\n",
       "      <th>4</th>\n",
       "      <td>5</td>\n",
       "      <td>15744109</td>\n",
       "      <td>Hartung</td>\n",
       "      <td>850</td>\n",
       "      <td>France</td>\n",
       "      <td>Male</td>\n",
       "      <td>32</td>\n",
       "      <td>4</td>\n",
       "      <td>0.00</td>\n",
       "      <td>1</td>\n",
       "      <td>1</td>\n",
       "      <td>1</td>\n",
       "      <td>180622.02</td>\n",
       "      <td>0</td>\n",
       "    </tr>\n",
       "  </tbody>\n",
       "</table>\n",
       "</div>"
      ],
      "text/plain": [
       "   RowNumber  CustomerId   Surname  ...  IsActiveMember EstimatedSalary Exited\n",
       "0          1    15634602  Hargrave  ...               1       101348.88      1\n",
       "1          2    15647311      Hill  ...               1       112542.58      0\n",
       "2          3    15593897      Carr  ...               1        28391.52      0\n",
       "3          4    15748595   Stanton  ...               1       122998.26      0\n",
       "4          5    15744109   Hartung  ...               1       180622.02      0\n",
       "\n",
       "[5 rows x 14 columns]"
      ]
     },
     "execution_count": 2,
     "metadata": {
      "tags": []
     },
     "output_type": "execute_result"
    }
   ],
   "source": [
    "# read data using pandas\n",
    "df = pd.read_csv('/content/Churn_Modelling.csv')\n",
    "df.head()"
   ]
  },
  {
   "cell_type": "markdown",
   "metadata": {
    "id": "AUniYiMmzV9v"
   },
   "source": [
    "### Analysing Data"
   ]
  },
  {
   "cell_type": "markdown",
   "metadata": {
    "id": "6ZIP2dMizYPU"
   },
   "source": [
    "Analyze the churn data and extract the information from it"
   ]
  },
  {
   "cell_type": "code",
   "execution_count": 3,
   "metadata": {
    "colab": {
     "base_uri": "https://localhost:8080/"
    },
    "id": "UViW0lEFyMJN",
    "outputId": "835c122a-4782-4232-836e-a97121220e82"
   },
   "outputs": [
    {
     "data": {
      "text/plain": [
       "(5692, 14)"
      ]
     },
     "execution_count": 3,
     "metadata": {
      "tags": []
     },
     "output_type": "execute_result"
    }
   ],
   "source": [
    "df.shape"
   ]
  },
  {
   "cell_type": "code",
   "execution_count": 4,
   "metadata": {
    "colab": {
     "base_uri": "https://localhost:8080/"
    },
    "id": "tb2nUecOzaEQ",
    "outputId": "e23e403d-3ebc-4a09-e62b-43bfa837a22e"
   },
   "outputs": [
    {
     "data": {
      "text/plain": [
       "Index(['RowNumber', 'CustomerId', 'Surname', 'CreditScore', 'Geography',\n",
       "       'Gender', 'Age', 'Tenure', 'Balance', 'NumOfProducts', 'HasCrCard',\n",
       "       'IsActiveMember', 'EstimatedSalary', 'Exited'],\n",
       "      dtype='object')"
      ]
     },
     "execution_count": 4,
     "metadata": {
      "tags": []
     },
     "output_type": "execute_result"
    }
   ],
   "source": [
    "df.columns"
   ]
  },
  {
   "cell_type": "code",
   "execution_count": 5,
   "metadata": {
    "colab": {
     "base_uri": "https://localhost:8080/"
    },
    "id": "SLfJVqcozb2Y",
    "outputId": "9d657eac-4ed0-4e99-983c-5ae2367fc018"
   },
   "outputs": [
    {
     "name": "stdout",
     "output_type": "stream",
     "text": [
      "<class 'pandas.core.frame.DataFrame'>\n",
      "RangeIndex: 5692 entries, 0 to 5691\n",
      "Data columns (total 14 columns):\n",
      " #   Column           Non-Null Count  Dtype  \n",
      "---  ------           --------------  -----  \n",
      " 0   RowNumber        5692 non-null   int64  \n",
      " 1   CustomerId       5692 non-null   int64  \n",
      " 2   Surname          5692 non-null   object \n",
      " 3   CreditScore      5692 non-null   int64  \n",
      " 4   Geography        5692 non-null   object \n",
      " 5   Gender           5692 non-null   object \n",
      " 6   Age              5692 non-null   int64  \n",
      " 7   Tenure           5692 non-null   int64  \n",
      " 8   Balance          5692 non-null   float64\n",
      " 9   NumOfProducts    5692 non-null   int64  \n",
      " 10  HasCrCard        5692 non-null   int64  \n",
      " 11  IsActiveMember   5692 non-null   int64  \n",
      " 12  EstimatedSalary  5692 non-null   float64\n",
      " 13  Exited           5692 non-null   int64  \n",
      "dtypes: float64(2), int64(9), object(3)\n",
      "memory usage: 622.7+ KB\n"
     ]
    }
   ],
   "source": [
    "# to know the data type\n",
    "df.info()"
   ]
  },
  {
   "cell_type": "code",
   "execution_count": 6,
   "metadata": {
    "colab": {
     "base_uri": "https://localhost:8080/"
    },
    "id": "Ph_n3nE2zd8x",
    "outputId": "ba922591-d4ea-4e18-ef95-36b3c9eaa8c0"
   },
   "outputs": [
    {
     "data": {
      "text/plain": [
       "Martin      23\n",
       "Scott       22\n",
       "Smith       22\n",
       "Yeh         17\n",
       "Genovese    16\n",
       "Ma          16\n",
       "Shih        16\n",
       "Maclean     16\n",
       "Gordon      15\n",
       "Forbes      15\n",
       "Name: Surname, dtype: int64"
      ]
     },
     "execution_count": 6,
     "metadata": {
      "tags": []
     },
     "output_type": "execute_result"
    }
   ],
   "source": [
    "df['Surname'].value_counts()[:10]"
   ]
  },
  {
   "cell_type": "markdown",
   "metadata": {
    "id": "8I6xz304zlQC"
   },
   "source": [
    "The bank has more customers from  the above family. (Surname)"
   ]
  },
  {
   "cell_type": "code",
   "execution_count": 7,
   "metadata": {
    "id": "wDi0re-Dziog"
   },
   "outputs": [],
   "source": [
    "geography = df['Geography'].value_counts()"
   ]
  },
  {
   "cell_type": "code",
   "execution_count": 8,
   "metadata": {
    "colab": {
     "base_uri": "https://localhost:8080/",
     "height": 270
    },
    "id": "GdD3B_qIznUf",
    "outputId": "96da69e0-99df-4236-e471-6554ec386762"
   },
   "outputs": [
    {
     "data": {
      "image/png": "[encoded data removed]",
      "text/plain": [
       "<Figure size 432x288 with 1 Axes>"
      ]
     },
     "metadata": {
      "tags": []
     },
     "output_type": "display_data"
    }
   ],
   "source": [
    "labels = geography.index\n",
    "sizes = geography.values\n",
    "explode = (0, 0, 0.1)\n",
    "fig1, ax1 = plt.subplots()\n",
    "ax1.pie(sizes, explode=explode, labels=labels, autopct='%1.1f%%',\n",
    "        shadow=True, startangle= 50)\n",
    "ax1.axis('equal')\n",
    "plt.title('Number of customers from countries', size = 15)\n",
    "plt.show()"
   ]
  },
  {
   "cell_type": "markdown",
   "metadata": {
    "id": "ulnR7Jezzrfn"
   },
   "source": [
    "Bank has almost twice the number of customers from **France** than other countries, whereas less number of customers from Germany"
   ]
  },
  {
   "cell_type": "code",
   "execution_count": 9,
   "metadata": {
    "colab": {
     "base_uri": "https://localhost:8080/",
     "height": 515
    },
    "id": "xwlDqOASzo82",
    "outputId": "d766c504-78f4-4595-e50a-f46f9ca8414c"
   },
   "outputs": [
    {
     "data": {
      "image/png": "[encoded data removed]",
      "text/plain": [
       "<Figure size 432x576 with 1 Axes>"
      ]
     },
     "metadata": {
      "needs_background": "light",
      "tags": []
     },
     "output_type": "display_data"
    }
   ],
   "source": [
    "plt.figure(figsize = (6, 8))\n",
    "sns.countplot(df['Gender'], palette= 'bright')\n",
    "plt.title('Number of customers by gender', size = 15)\n",
    "plt.show()"
   ]
  },
  {
   "cell_type": "markdown",
   "metadata": {
    "id": "Wzw4y8EYzxif"
   },
   "source": [
    "Bank has more number of male customers than female customers"
   ]
  },
  {
   "cell_type": "code",
   "execution_count": 10,
   "metadata": {
    "colab": {
     "base_uri": "https://localhost:8080/",
     "height": 406
    },
    "id": "IKAfwh1dzvtm",
    "outputId": "f0bdb145-5c12-443e-e628-c07130286bcf"
   },
   "outputs": [
    {
     "data": {
      "image/png": "[encoded data removed]",
      "text/plain": [
       "<Figure size 864x432 with 1 Axes>"
      ]
     },
     "metadata": {
      "needs_background": "light",
      "tags": []
     },
     "output_type": "display_data"
    }
   ],
   "source": [
    "plt.figure(figsize = (12, 6))\n",
    "sns.countplot(df['Tenure'], palette= 'bright')\n",
    "plt.title('Tenure', size = 15)\n",
    "plt.show()"
   ]
  },
  {
   "cell_type": "code",
   "execution_count": 11,
   "metadata": {
    "colab": {
     "base_uri": "https://localhost:8080/",
     "height": 406
    },
    "id": "lFC0ggJKz0dE",
    "outputId": "d7b1725c-58a2-447b-abca-0241ff3eb891"
   },
   "outputs": [
    {
     "data": {
      "image/png": "[encoded data removed]",
      "text/plain": [
       "<Figure size 864x432 with 1 Axes>"
      ]
     },
     "metadata": {
      "needs_background": "light",
      "tags": []
     },
     "output_type": "display_data"
    }
   ],
   "source": [
    "plt.figure(figsize = (12, 6))\n",
    "sns.countplot(df['NumOfProducts'], palette= 'bright')\n",
    "plt.title('Number of products', size = 15)\n",
    "plt.show()"
   ]
  },
  {
   "cell_type": "markdown",
   "metadata": {
    "id": "e27Zgm6Hz6-1"
   },
   "source": [
    "Customers bought 1 or 2 products more time"
   ]
  },
  {
   "cell_type": "code",
   "execution_count": 12,
   "metadata": {
    "colab": {
     "base_uri": "https://localhost:8080/",
     "height": 352
    },
    "id": "gsCLdjSoz2nU",
    "outputId": "a0e492af-2487-432e-e5f7-7b86b7b5604b"
   },
   "outputs": [
    {
     "data": {
      "image/png": "[encoded data removed]",
      "text/plain": [
       "<Figure size 864x360 with 1 Axes>"
      ]
     },
     "metadata": {
      "needs_background": "light",
      "tags": []
     },
     "output_type": "display_data"
    }
   ],
   "source": [
    "plt.figure(figsize = (12, 5))\n",
    "sns.countplot(x = df['Geography'], hue = df['HasCrCard'], palette= 'bright')\n",
    "plt.title('Number of Credit card users countrywise', size = 15)\n",
    "plt.show()"
   ]
  },
  {
   "cell_type": "code",
   "execution_count": 13,
   "metadata": {
    "colab": {
     "base_uri": "https://localhost:8080/",
     "height": 352
    },
    "id": "-epkM2aWz9JA",
    "outputId": "5019ba85-a28d-4a9f-995d-9c1c8e0de040"
   },
   "outputs": [
    {
     "data": {
      "image/png": "[encoded data removed]",
      "text/plain": [
       "<Figure size 864x360 with 1 Axes>"
      ]
     },
     "metadata": {
      "needs_background": "light",
      "tags": []
     },
     "output_type": "display_data"
    }
   ],
   "source": [
    "plt.figure(figsize = (12, 5))\n",
    "sns.countplot(x = df['Gender'], hue = df['HasCrCard'], palette= 'bright')\n",
    "plt.title('Number of credit card user genderwise', size = 15)\n",
    "plt.show()"
   ]
  },
  {
   "cell_type": "markdown",
   "metadata": {
    "id": "NMCCLtMm0BOb"
   },
   "source": [
    "More customers have credit card in countrywise as well as genderwise"
   ]
  },
  {
   "cell_type": "code",
   "execution_count": 14,
   "metadata": {
    "colab": {
     "base_uri": "https://localhost:8080/"
    },
    "id": "xibwq8WEz_I2",
    "outputId": "44281595-b6a0-493f-d333-594f7d24302c"
   },
   "outputs": [
    {
     "data": {
      "text/plain": [
       "count      5692.000000\n",
       "mean      99757.268373\n",
       "std       57512.971784\n",
       "min          11.580000\n",
       "25%       51014.837500\n",
       "50%       99913.850000\n",
       "75%      148704.387500\n",
       "max      199970.740000\n",
       "Name: EstimatedSalary, dtype: float64"
      ]
     },
     "execution_count": 14,
     "metadata": {
      "tags": []
     },
     "output_type": "execute_result"
    }
   ],
   "source": [
    "df['EstimatedSalary'].describe()"
   ]
  },
  {
   "cell_type": "markdown",
   "metadata": {
    "id": "7LtNtVQn0GE9"
   },
   "source": [
    "The above result shows the minimum, maximum and mean value of the Estimated Salary "
   ]
  },
  {
   "cell_type": "code",
   "execution_count": 15,
   "metadata": {
    "colab": {
     "base_uri": "https://localhost:8080/",
     "height": 297
    },
    "id": "uc3N-lhK0DHC",
    "outputId": "a76cf9f4-5894-4dcf-878f-e5bfb45762a8"
   },
   "outputs": [
    {
     "data": {
      "image/png": "[encoded data removed]",
      "text/plain": [
       "<Figure size 864x288 with 1 Axes>"
      ]
     },
     "metadata": {
      "needs_background": "light",
      "tags": []
     },
     "output_type": "display_data"
    }
   ],
   "source": [
    "plt.figure(figsize = (12, 4))\n",
    "sns.boxplot(df['EstimatedSalary'], color = 'green')\n",
    "plt.title('Estimated Salary', size = 15)\n",
    "plt.show()"
   ]
  },
  {
   "cell_type": "markdown",
   "metadata": {
    "id": "JN1m7HO10KyZ"
   },
   "source": [
    "Above figure infers that there is no skewness in the data"
   ]
  },
  {
   "cell_type": "code",
   "execution_count": 16,
   "metadata": {
    "colab": {
     "base_uri": "https://localhost:8080/",
     "height": 406
    },
    "id": "r4k71WLP0Iao",
    "outputId": "87267d8f-d65e-40ea-81e9-db1d97514ce7"
   },
   "outputs": [
    {
     "data": {
      "image/png": "[encoded data removed]",
      "text/plain": [
       "<Figure size 720x432 with 1 Axes>"
      ]
     },
     "metadata": {
      "needs_background": "light",
      "tags": []
     },
     "output_type": "display_data"
    }
   ],
   "source": [
    "plt.figure(figsize = (10, 6))\n",
    "sns.distplot(df['Balance'])\n",
    "plt.title('Balance', size = 15)\n",
    "plt.show()"
   ]
  },
  {
   "cell_type": "markdown",
   "metadata": {
    "id": "dMmmEWp50Rt-"
   },
   "source": [
    "More customers have 0 balance than other customers <br>Balance is normaly distributed except the customers who have 0 balance"
   ]
  },
  {
   "cell_type": "markdown",
   "metadata": {
    "id": "F_6c3baN0UMO"
   },
   "source": [
    " Seperate the customers and see whether the bank has more customers without balance(balance = 0) or with balance(balance > 0)"
   ]
  },
  {
   "cell_type": "code",
   "execution_count": 17,
   "metadata": {
    "id": "DQT463P70OeP"
   },
   "outputs": [],
   "source": [
    "balance = np.where(df['Balance'] == 0, 0, 1)"
   ]
  },
  {
   "cell_type": "code",
   "execution_count": 18,
   "metadata": {
    "colab": {
     "base_uri": "https://localhost:8080/",
     "height": 283
    },
    "id": "lNivB4RN0ZGf",
    "outputId": "e2f73003-c50a-4ca1-c457-89a607d2ef79"
   },
   "outputs": [
    {
     "data": {
      "image/png": "[encoded data removed]",
      "text/plain": [
       "<Figure size 432x288 with 1 Axes>"
      ]
     },
     "metadata": {
      "needs_background": "light",
      "tags": []
     },
     "output_type": "display_data"
    }
   ],
   "source": [
    "plt.figure(figsize = (6, 4))\n",
    "sns.countplot(balance)\n",
    "plt.title('Customers with balance', size = 15)\n",
    "plt.show()"
   ]
  },
  {
   "cell_type": "markdown",
   "metadata": {
    "id": "ZU4hDLqg0dTo"
   },
   "source": [
    "Bank has more customers who maintain their balance than customers who have 0 balance"
   ]
  },
  {
   "cell_type": "code",
   "execution_count": 19,
   "metadata": {
    "colab": {
     "base_uri": "https://localhost:8080/",
     "height": 406
    },
    "id": "peSs2L6X0a9l",
    "outputId": "4eb4e266-016a-449a-894d-7d5f5296c3c9"
   },
   "outputs": [
    {
     "data": {
      "image/png": "[encoded data removed]",
      "text/plain": [
       "<Figure size 864x432 with 1 Axes>"
      ]
     },
     "metadata": {
      "needs_background": "light",
      "tags": []
     },
     "output_type": "display_data"
    }
   ],
   "source": [
    "plt.figure(figsize = (12, 6))\n",
    "sns.countplot(x = df['Geography'], hue = df['Exited'])\n",
    "plt.title('Number of Exited customers countrywise', size = 15)\n",
    "plt.show()"
   ]
  },
  {
   "cell_type": "code",
   "execution_count": 20,
   "metadata": {
    "colab": {
     "base_uri": "https://localhost:8080/",
     "height": 406
    },
    "id": "_XRI2B7O0fMd",
    "outputId": "18d04760-a451-4def-e78f-287eab011f84"
   },
   "outputs": [
    {
     "data": {
      "image/png": "[encoded data removed]",
      "text/plain": [
       "<Figure size 864x432 with 1 Axes>"
      ]
     },
     "metadata": {
      "needs_background": "light",
      "tags": []
     },
     "output_type": "display_data"
    }
   ],
   "source": [
    "plt.figure(figsize = (12, 6))\n",
    "sns.countplot(df['Gender'], hue = df['Exited'])\n",
    "plt.title('Number of Exited customers genderwise', size = 15)\n",
    "plt.show()"
   ]
  },
  {
   "cell_type": "markdown",
   "metadata": {
    "id": "aD8DDr1m0jWL"
   },
   "source": [
    "Less customers exited in countrywise as well as genderwise"
   ]
  },
  {
   "cell_type": "code",
   "execution_count": 22,
   "metadata": {
    "colab": {
     "base_uri": "https://localhost:8080/",
     "height": 352
    },
    "id": "QzHDPBp10lMl",
    "outputId": "f32e095e-24b9-49d8-812e-a306b6e6418c"
   },
   "outputs": [
    {
     "data": {
      "image/png": "[encoded data removed]",
      "text/plain": [
       "<Figure size 576x360 with 1 Axes>"
      ]
     },
     "metadata": {
      "needs_background": "light",
      "tags": []
     },
     "output_type": "display_data"
    }
   ],
   "source": [
    "plt.figure(figsize = (8, 5))\n",
    "sns.countplot(df['Geography'], hue = df['IsActiveMember'])\n",
    "plt.title('Active customers countrywise', size = 15)\n",
    "plt.show()"
   ]
  },
  {
   "cell_type": "markdown",
   "metadata": {
    "id": "zOaDgr2L0wlw"
   },
   "source": [
    "There is small numer of cusomers are not active"
   ]
  },
  {
   "cell_type": "code",
   "execution_count": 23,
   "metadata": {
    "id": "bRijm1Ro0pSV"
   },
   "outputs": [],
   "source": [
    "exited = df[df['Exited'] == 1]"
   ]
  },
  {
   "cell_type": "code",
   "execution_count": 24,
   "metadata": {
    "id": "wjYVfM5803jq"
   },
   "outputs": [],
   "source": [
    "france = exited[exited['Geography'] == 'France']\n",
    "spain = exited[exited['Geography'] == 'Spain']\n",
    "germany = exited[exited['Geography'] == 'Germany']"
   ]
  },
  {
   "cell_type": "code",
   "execution_count": 25,
   "metadata": {
    "colab": {
     "base_uri": "https://localhost:8080/"
    },
    "id": "NOVDoM9U08sY",
    "outputId": "cc04c726-c40e-411f-caf6-2dcfb53ee2d0"
   },
   "outputs": [
    {
     "name": "stdout",
     "output_type": "stream",
     "text": [
      "352 customers closed their accounts in france, 166 customers closed their accounts in spain and \n",
      "359 customers closed their account in germany\n"
     ]
    }
   ],
   "source": [
    "print(f'{france.shape[0]} customers closed their accounts in france, {spain.shape[0]} customers closed their accounts in spain and \\n{germany.shape[0]} customers closed their account in germany')"
   ]
  },
  {
   "cell_type": "markdown",
   "metadata": {
    "id": "TmTe9ytYjrs-"
   },
   "source": [
    "More cusomers from Germany closed their accounts"
   ]
  },
  {
   "cell_type": "code",
   "execution_count": 26,
   "metadata": {
    "id": "CPoJcu6fj0oo"
   },
   "outputs": [],
   "source": [
    "male = exited[exited['Gender'] == 'Male']\n",
    "female = exited[exited['Gender'] == 'Female']"
   ]
  },
  {
   "cell_type": "code",
   "execution_count": 27,
   "metadata": {
    "colab": {
     "base_uri": "https://localhost:8080/"
    },
    "id": "5MRSY1P_kLRZ",
    "outputId": "00aec61a-4aee-462e-e744-81d2fe015029"
   },
   "outputs": [
    {
     "name": "stdout",
     "output_type": "stream",
     "text": [
      "392 Male customers closed their account and 485 Female customers closed their accounts\n"
     ]
    }
   ],
   "source": [
    "print(f'{male.shape[0]} Male customers closed their account and {female.shape[0]} Female customers closed their accounts')"
   ]
  },
  {
   "cell_type": "markdown",
   "metadata": {
    "id": "xHgVqCcWk-o1"
   },
   "source": [
    "More female customers closed their accounts than male customers"
   ]
  },
  {
   "cell_type": "markdown",
   "metadata": {
    "id": "2_xz-2G71CB8"
   },
   "source": [
    "### Hypothesis Testing"
   ]
  },
  {
   "cell_type": "markdown",
   "metadata": {
    "id": "zc288oBh1FZz"
   },
   "source": [
    "Statistical test on data and explore more information from it."
   ]
  },
  {
   "cell_type": "markdown",
   "metadata": {
    "id": "yDl0KSJV1IDl"
   },
   "source": [
    "#### Shapiro–Wilk test"
   ]
  },
  {
   "cell_type": "code",
   "execution_count": 28,
   "metadata": {
    "id": "Fz3kb8Al0-d-"
   },
   "outputs": [],
   "source": [
    "# import shapiro\n",
    "from scipy.stats import shapiro"
   ]
  },
  {
   "cell_type": "markdown",
   "metadata": {
    "id": "ktwbJthv1Mrr"
   },
   "source": [
    "create a function to plot the distribution of the continuous values and it's mean"
   ]
  },
  {
   "cell_type": "code",
   "execution_count": 29,
   "metadata": {
    "id": "LBTTfpfe1Kch"
   },
   "outputs": [],
   "source": [
    "def distribution_plot(data):\n",
    "    plt.figure(figsize = (11, 7))\n",
    "    ax = sns.distplot(data)\n",
    "    plt.axvline(np.mean(data), color = 'red', linestyle = 'dashed')\n",
    "    _, max_ = plt.ylim()\n",
    "    plt.text(np.mean(data) + np.mean(data)/10,\n",
    "               max_ - max_/10,\n",
    "               'Mean:{:.2f}'.format(data.mean()))\n",
    "    return plt.show()"
   ]
  },
  {
   "cell_type": "code",
   "execution_count": 30,
   "metadata": {
    "colab": {
     "base_uri": "https://localhost:8080/",
     "height": 442
    },
    "id": "rJCso6Lw1Odn",
    "outputId": "c5c866ad-c6cd-4252-b6bf-55c6821e139a"
   },
   "outputs": [
    {
     "data": {
      "image/png": "[encoded data removed]",
      "text/plain": [
       "<Figure size 792x504 with 1 Axes>"
      ]
     },
     "metadata": {
      "needs_background": "light",
      "tags": []
     },
     "output_type": "display_data"
    }
   ],
   "source": [
    "distribution_plot(df['Age'])"
   ]
  },
  {
   "cell_type": "markdown",
   "metadata": {
    "id": "OVcxYB5i1YQY"
   },
   "source": [
    "It doesn't looks like normal distribution, shapiro wilk test is one of the statistical test used to check whether the sample data drawn from the population is normally distributed or not"
   ]
  },
  {
   "cell_type": "code",
   "execution_count": 37,
   "metadata": {
    "id": "7uc-HaVr1SCG"
   },
   "outputs": [],
   "source": [
    "sample_age = df['Age'].sample(25)"
   ]
  },
  {
   "cell_type": "code",
   "execution_count": 38,
   "metadata": {
    "id": "qCboITvu1aKT"
   },
   "outputs": [],
   "source": [
    "#function to perform shapiro test\n",
    "def shapiro_test(data):\n",
    "    stat, p = shapiro(data)\n",
    "    print(f'Statistical value :{stat}')\n",
    "    print(f'P value is {p}')\n",
    "    if p > 0.05:\n",
    "        print('Normaly distributed, failed to reject Null Hypothesis(H0)')\n",
    "    else:\n",
    "        print('Not a Normal distribution, reject Null Hypothesis(H0)')"
   ]
  },
  {
   "cell_type": "code",
   "execution_count": 39,
   "metadata": {
    "colab": {
     "base_uri": "https://localhost:8080/"
    },
    "id": "Ym6iK2ro1b_o",
    "outputId": "3c12b95d-c737-4806-92c9-f1357905ccd7"
   },
   "outputs": [
    {
     "name": "stdout",
     "output_type": "stream",
     "text": [
      "Statistical value :0.8554052114486694\n",
      "P value is 0.002234451938420534\n",
      "Not a Normal distribution, reject Null Hypothesis(H0)\n"
     ]
    }
   ],
   "source": [
    "shapiro_test(sample_age)"
   ]
  },
  {
   "cell_type": "markdown",
   "metadata": {
    "id": "s9PPUUlT1wYk"
   },
   "source": [
    "#### independent sample t test"
   ]
  },
  {
   "cell_type": "code",
   "execution_count": 40,
   "metadata": {
    "id": "eqHYRaKt1e-j"
   },
   "outputs": [],
   "source": [
    "# import library\n",
    "from scipy.stats import ttest_ind"
   ]
  },
  {
   "cell_type": "markdown",
   "metadata": {
    "id": "M_7rOXZz10SZ"
   },
   "source": [
    "create a function to plot data distribution from two different group"
   ]
  },
  {
   "cell_type": "code",
   "execution_count": 41,
   "metadata": {
    "id": "WXndju5E1yOd"
   },
   "outputs": [],
   "source": [
    "def plot_two_distribution(data1, data2):\n",
    "    plt.figure(figsize = (11, 7))\n",
    "    ax1 = sns.distplot(data1)\n",
    "    ax2 = sns.distplot(data2)\n",
    "    plt.axvline(np.mean(data1), color = 'red', linestyle = 'dashed')\n",
    "    plt.axvline(np.mean(data2), color = 'blue', linestyle = 'dashed')\n",
    "    return plt.show()"
   ]
  },
  {
   "cell_type": "code",
   "execution_count": 42,
   "metadata": {
    "colab": {
     "base_uri": "https://localhost:8080/",
     "height": 453
    },
    "id": "Ubj_tHIi12P-",
    "outputId": "05bc5df7-4b4a-4b80-cdbb-35375d31a72f"
   },
   "outputs": [
    {
     "data": {
      "image/png": "[encoded data removed]",
      "text/plain": [
       "<Figure size 792x504 with 1 Axes>"
      ]
     },
     "metadata": {
      "needs_background": "light",
      "tags": []
     },
     "output_type": "display_data"
    }
   ],
   "source": [
    "plot_two_distribution(df['Balance'], df['EstimatedSalary'])"
   ]
  },
  {
   "cell_type": "markdown",
   "metadata": {
    "id": "LGDWjxlr1934"
   },
   "source": [
    "line which indicates the mean of each population, clearly shows there is difference between both data"
   ]
  },
  {
   "cell_type": "code",
   "execution_count": 54,
   "metadata": {
    "id": "HghcLap313-v"
   },
   "outputs": [],
   "source": [
    "# function to perform independent sample t-test\n",
    "def ttest_independent(data1, data2):\n",
    "    stat, p = ttest_ind(data1, data2)\n",
    "    print(f'Statistical value :{stat}')\n",
    "    print(f'P value is {p}')\n",
    "    if p > 0.05:\n",
    "        print('There is no difference between both groups, fail to reject Null Hypothesis(H0)')\n",
    "    else:\n",
    "        print('There is difference between both groups, reject Null Hypothesis(H0)')"
   ]
  },
  {
   "cell_type": "code",
   "execution_count": 55,
   "metadata": {
    "id": "Ahy_yiOF1_7J"
   },
   "outputs": [],
   "source": [
    "sample_balance = df['Balance'].sample(25)\n",
    "sample_est_salary = df['EstimatedSalary'].sample(25)"
   ]
  },
  {
   "cell_type": "code",
   "execution_count": 56,
   "metadata": {
    "colab": {
     "base_uri": "https://localhost:8080/"
    },
    "id": "0WbddraI2CK1",
    "outputId": "bf27a981-c057-407a-d9bd-8d4d130cde38"
   },
   "outputs": [
    {
     "name": "stdout",
     "output_type": "stream",
     "text": [
      "Statistical value :-3.1222261453287636\n",
      "P value is 0.0030383090162547166\n",
      "There is difference between both groups, reject Null Hypothesis(H0)\n"
     ]
    }
   ],
   "source": [
    "ttest_independent(sample_balance, sample_est_salary)"
   ]
  },
  {
   "cell_type": "markdown",
   "metadata": {
    "id": "647GEmK92IRj"
   },
   "source": [
    "#### ANOVA test"
   ]
  },
  {
   "cell_type": "code",
   "execution_count": 57,
   "metadata": {
    "id": "Jrr9QgtU2ETz"
   },
   "outputs": [],
   "source": [
    "# import library\n",
    "from scipy.stats import f_oneway"
   ]
  },
  {
   "cell_type": "markdown",
   "metadata": {
    "id": "DdbyqH7D2Mw4"
   },
   "source": [
    "one way ANOVA used to check is there any relationship between categorical group which contain more than two category and a continuous gruop"
   ]
  },
  {
   "cell_type": "code",
   "execution_count": 58,
   "metadata": {
    "id": "uCQU9v7I2KSg"
   },
   "outputs": [],
   "source": [
    "groups = df.groupby('Geography').groups"
   ]
  },
  {
   "cell_type": "code",
   "execution_count": 59,
   "metadata": {
    "id": "5fUHzAPw2Opv"
   },
   "outputs": [],
   "source": [
    "france_salary = df['EstimatedSalary'][groups['France']]\n",
    "spain_salary = df['EstimatedSalary'][groups['Spain']]\n",
    "germany_salary = df['EstimatedSalary'][groups['Germany']]"
   ]
  },
  {
   "cell_type": "code",
   "execution_count": 60,
   "metadata": {
    "colab": {
     "base_uri": "https://localhost:8080/"
    },
    "id": "LGGkPbmK2QDv",
    "outputId": "7c788093-680e-4d5b-a0f4-9af627712b4d"
   },
   "outputs": [
    {
     "name": "stdout",
     "output_type": "stream",
     "text": [
      "P value is 0.6862338346148008\n",
      "There is no difference between the groups, fail to reject Null Hypothesis(H0)\n"
     ]
    }
   ],
   "source": [
    "stat, p = f_oneway(france_salary, spain_salary, germany_salary)\n",
    "print(f'P value is {p}')\n",
    "if p > 0.05:\n",
    "    print('There is no difference between the groups, fail to reject Null Hypothesis(H0)')\n",
    "else:\n",
    "    print('Difference between groups, reject Null Hypothesis')"
   ]
  },
  {
   "cell_type": "markdown",
   "metadata": {
    "id": "dimZ_u8X2VMX"
   },
   "source": [
    "Didn't find any difference between country's estimated salary, below ANOVA test conducts on each country's balance"
   ]
  },
  {
   "cell_type": "code",
   "execution_count": 61,
   "metadata": {
    "id": "fOiWAzBY2Rul"
   },
   "outputs": [],
   "source": [
    "france_balance = df['Balance'][groups['France']]\n",
    "spain_balance = df['Balance'][groups['Spain']]\n",
    "germany_balance = df['Balance'][groups['Germany']]"
   ]
  },
  {
   "cell_type": "code",
   "execution_count": 62,
   "metadata": {
    "colab": {
     "base_uri": "https://localhost:8080/"
    },
    "id": "HjQmiY572YC5",
    "outputId": "d7b4c6c1-b7c7-4c5c-e06c-d2613d324d69"
   },
   "outputs": [
    {
     "name": "stdout",
     "output_type": "stream",
     "text": [
      "P value is 3.230477437513559e-217\n",
      "Difference between groups, reject Null Hypothesis\n"
     ]
    }
   ],
   "source": [
    "stat, p = f_oneway(france_balance, spain_balance, germany_balance)\n",
    "print(f'P value is {p}')\n",
    "if p > 0.05:\n",
    "    print('There is no difference between the groups, fail to reject Null Hypothesis(H0)')\n",
    "else:\n",
    "    print('Difference between groups, reject Null Hypothesis')"
   ]
  },
  {
   "cell_type": "markdown",
   "metadata": {
    "id": "TOgs_Ion2d8z"
   },
   "source": [
    "ANOVA results shows there is difference between balance between countries, Tukey test should be counduct to know more about it "
   ]
  },
  {
   "cell_type": "markdown",
   "metadata": {
    "id": "Kany0-2A2iSR"
   },
   "source": [
    "#### Tukey's test"
   ]
  },
  {
   "cell_type": "code",
   "execution_count": 63,
   "metadata": {
    "id": "cKLBJCXj2aF0"
   },
   "outputs": [],
   "source": [
    "# import library\n",
    "from statsmodels.stats.multicomp import pairwise_tukeyhsd"
   ]
  },
  {
   "cell_type": "code",
   "execution_count": 64,
   "metadata": {
    "id": "XU_RJ5aG2kuS"
   },
   "outputs": [],
   "source": [
    "def tukey_test(cont, categ):\n",
    "    tukey = pairwise_tukeyhsd(endog= cont,\n",
    "                             groups= categ)\n",
    "    tukey.plot_simultaneous()\n",
    "    plt.vlines(x = np.mean(cont), ymin=-0.5, ymax=len(categ.unique()) - .5, color = 'red')\n",
    "    print(tukey.summary())"
   ]
  },
  {
   "cell_type": "code",
   "execution_count": 65,
   "metadata": {
    "colab": {
     "base_uri": "https://localhost:8080/",
     "height": 526
    },
    "id": "bJc0ksgl2nDy",
    "outputId": "e6c84d18-3fd5-4599-bcc9-9bc7514771cd"
   },
   "outputs": [
    {
     "name": "stdout",
     "output_type": "stream",
     "text": [
      "       Multiple Comparison of Means - Tukey HSD, FWER=0.05       \n",
      "=================================================================\n",
      " group1  group2   meandiff  p-adj     lower       upper    reject\n",
      "-----------------------------------------------------------------\n",
      " France Germany  58499.2688  0.001  54144.5439  62853.9937   True\n",
      " France   Spain   1872.6927 0.5621  -2446.9158   6192.3011  False\n",
      "Germany   Spain -56626.5761  0.001 -61651.2099 -51601.9424   True\n",
      "-----------------------------------------------------------------\n"
     ]
    },
    {
     "data": {
      "image/png": "[encoded data removed]",
      "text/plain": [
       "<Figure size 720x432 with 1 Axes>"
      ]
     },
     "metadata": {
      "needs_background": "light",
      "tags": []
     },
     "output_type": "display_data"
    }
   ],
   "source": [
    "tukey_test(df['Balance'], df['Geography'])"
   ]
  },
  {
   "cell_type": "markdown",
   "metadata": {
    "id": "reHrJenc2vry"
   },
   "source": [
    "black line shows the minimum and maximum of balance and the dot indicates the mean of each country's balance <br>Red line shows the mean of balance of all countries<br>Germany's balance is too far from the rest of the countries, It clearly shows **Germans maintain their balance very high**"
   ]
  },
  {
   "cell_type": "markdown",
   "metadata": {
    "id": "7sbP1k3W2zPn"
   },
   "source": [
    "#### chi-squared test"
   ]
  },
  {
   "cell_type": "markdown",
   "metadata": {
    "id": "eA-mZCl922Pq"
   },
   "source": [
    "chi-squared test is used to find is there any relationship between two categorical groups"
   ]
  },
  {
   "cell_type": "code",
   "execution_count": 66,
   "metadata": {
    "id": "cjjzD-6J2pHE"
   },
   "outputs": [],
   "source": [
    "# import library\n",
    "from scipy.stats import chi2_contingency"
   ]
  },
  {
   "cell_type": "code",
   "execution_count": 67,
   "metadata": {
    "colab": {
     "base_uri": "https://localhost:8080/",
     "height": 142
    },
    "id": "7mmhmKx_24mI",
    "outputId": "8ceb3827-545f-41c0-a8c8-ae4f3c18153b"
   },
   "outputs": [
    {
     "data": {
      "text/html": [
       "<div>\n",
       "<style scoped>\n",
       "    .dataframe tbody tr th:only-of-type {\n",
       "        vertical-align: middle;\n",
       "    }\n",
       "\n",
       "    .dataframe tbody tr th {\n",
       "        vertical-align: top;\n",
       "    }\n",
       "\n",
       "    .dataframe thead th {\n",
       "        text-align: right;\n",
       "    }\n",
       "</style>\n",
       "<table border=\"1\" class=\"dataframe\">\n",
       "  <thead>\n",
       "    <tr style=\"text-align: right;\">\n",
       "      <th>Geography</th>\n",
       "      <th>France</th>\n",
       "      <th>Germany</th>\n",
       "      <th>Spain</th>\n",
       "    </tr>\n",
       "    <tr>\n",
       "      <th>Gender</th>\n",
       "      <th></th>\n",
       "      <th></th>\n",
       "      <th></th>\n",
       "    </tr>\n",
       "  </thead>\n",
       "  <tbody>\n",
       "    <tr>\n",
       "      <th>Female</th>\n",
       "      <td>1292</td>\n",
       "      <td>628</td>\n",
       "      <td>609</td>\n",
       "    </tr>\n",
       "    <tr>\n",
       "      <th>Male</th>\n",
       "      <td>1582</td>\n",
       "      <td>764</td>\n",
       "      <td>817</td>\n",
       "    </tr>\n",
       "  </tbody>\n",
       "</table>\n",
       "</div>"
      ],
      "text/plain": [
       "Geography  France  Germany  Spain\n",
       "Gender                           \n",
       "Female       1292      628    609\n",
       "Male         1582      764    817"
      ]
     },
     "execution_count": 67,
     "metadata": {
      "tags": []
     },
     "output_type": "execute_result"
    }
   ],
   "source": [
    "contingency_data = pd.crosstab(df['Gender'], df['Geography'])\n",
    "contingency_data"
   ]
  },
  {
   "cell_type": "markdown",
   "metadata": {
    "id": "YRgNQnrY2_QH"
   },
   "source": [
    "It shows the combination of categories"
   ]
  },
  {
   "cell_type": "code",
   "execution_count": 68,
   "metadata": {
    "colab": {
     "base_uri": "https://localhost:8080/"
    },
    "id": "o5yHehv428Tt",
    "outputId": "4dd4c263-6878-44c0-b724-c5319814d9ea"
   },
   "outputs": [
    {
     "name": "stdout",
     "output_type": "stream",
     "text": [
      "stats :2.3\n",
      "p value is :0.317\n",
      "Independent categories\n"
     ]
    }
   ],
   "source": [
    "stat, p, dof, expected = chi2_contingency(contingency_data)\n",
    "print(f'stats :{np.round(stat, 3)}')\n",
    "print(f'p value is :{np.round(p, 3)}')\n",
    "if p > 0.05:\n",
    "    print('Independent categories')\n",
    "else:\n",
    "    print('Dependent categories')"
   ]
  },
  {
   "cell_type": "code",
   "execution_count": 69,
   "metadata": {
    "colab": {
     "base_uri": "https://localhost:8080/",
     "height": 667
    },
    "id": "cdyKiTO03BFX",
    "outputId": "8bdb9d13-a15b-43a9-e165-5fb1fad6408e"
   },
   "outputs": [
    {
     "data": {
      "image/png": "[encoded data removed]",
      "text/plain": [
       "<Figure size 864x720 with 2 Axes>"
      ]
     },
     "metadata": {
      "needs_background": "light",
      "tags": []
     },
     "output_type": "display_data"
    }
   ],
   "source": [
    "plt.figure(figsize = (12, 10))\n",
    "corr = df.corr()\n",
    "sns.heatmap(corr, annot = True, cmap = plt.cm.CMRmap_r)\n",
    "plt.show()"
   ]
  },
  {
   "cell_type": "markdown",
   "metadata": {
    "id": "8uV9pcgC3GX9"
   },
   "source": [
    "There is no correlation in the data"
   ]
  },
  {
   "cell_type": "markdown",
   "metadata": {
    "id": "7Fj_aoky3Ijk"
   },
   "source": [
    "### Data Wrangling"
   ]
  },
  {
   "cell_type": "markdown",
   "metadata": {
    "id": "HadZ5-xC3MIc"
   },
   "source": [
    "Data wrangling is the process of **data cleaning**"
   ]
  },
  {
   "cell_type": "code",
   "execution_count": 70,
   "metadata": {
    "colab": {
     "base_uri": "https://localhost:8080/"
    },
    "id": "TTtJQTuI3DEh",
    "outputId": "7cc6f141-908a-4aa3-82d5-5350d32e9d75"
   },
   "outputs": [
    {
     "data": {
      "text/plain": [
       "RowNumber          0\n",
       "CustomerId         0\n",
       "Surname            0\n",
       "CreditScore        0\n",
       "Geography          0\n",
       "Gender             0\n",
       "Age                0\n",
       "Tenure             0\n",
       "Balance            0\n",
       "NumOfProducts      0\n",
       "HasCrCard          0\n",
       "IsActiveMember     0\n",
       "EstimatedSalary    0\n",
       "Exited             0\n",
       "dtype: int64"
      ]
     },
     "execution_count": 70,
     "metadata": {
      "tags": []
     },
     "output_type": "execute_result"
    }
   ],
   "source": [
    "df.isnull().sum()"
   ]
  },
  {
   "cell_type": "code",
   "execution_count": 71,
   "metadata": {
    "colab": {
     "base_uri": "https://localhost:8080/",
     "height": 450
    },
    "id": "NroDD-SH3N3s",
    "outputId": "253c254b-2701-40d5-dd7d-de02bd809f2a"
   },
   "outputs": [
    {
     "data": {
      "image/png": "[encoded data removed]",
      "text/plain": [
       "<Figure size 576x432 with 2 Axes>"
      ]
     },
     "metadata": {
      "needs_background": "light",
      "tags": []
     },
     "output_type": "display_data"
    }
   ],
   "source": [
    "plt.figure(figsize = (8, 6))\n",
    "sns.heatmap(df.isnull())\n",
    "plt.show()"
   ]
  },
  {
   "cell_type": "markdown",
   "metadata": {
    "id": "Cg4ALIzE3TDH"
   },
   "source": [
    "There is no null values in the data, the next step is remove unwanted data..."
   ]
  },
  {
   "cell_type": "code",
   "execution_count": 72,
   "metadata": {
    "colab": {
     "base_uri": "https://localhost:8080/",
     "height": 224
    },
    "id": "6_TyTb0y3QcJ",
    "outputId": "c4914ab8-a944-420d-e3bd-b6a3d9f71fba"
   },
   "outputs": [
    {
     "data": {
      "text/html": [
       "<div>\n",
       "<style scoped>\n",
       "    .dataframe tbody tr th:only-of-type {\n",
       "        vertical-align: middle;\n",
       "    }\n",
       "\n",
       "    .dataframe tbody tr th {\n",
       "        vertical-align: top;\n",
       "    }\n",
       "\n",
       "    .dataframe thead th {\n",
       "        text-align: right;\n",
       "    }\n",
       "</style>\n",
       "<table border=\"1\" class=\"dataframe\">\n",
       "  <thead>\n",
       "    <tr style=\"text-align: right;\">\n",
       "      <th></th>\n",
       "      <th>RowNumber</th>\n",
       "      <th>CustomerId</th>\n",
       "      <th>Surname</th>\n",
       "      <th>CreditScore</th>\n",
       "      <th>Geography</th>\n",
       "      <th>Gender</th>\n",
       "      <th>Age</th>\n",
       "      <th>Tenure</th>\n",
       "      <th>Balance</th>\n",
       "      <th>NumOfProducts</th>\n",
       "      <th>HasCrCard</th>\n",
       "      <th>IsActiveMember</th>\n",
       "      <th>EstimatedSalary</th>\n",
       "      <th>Exited</th>\n",
       "    </tr>\n",
       "  </thead>\n",
       "  <tbody>\n",
       "    <tr>\n",
       "      <th>0</th>\n",
       "      <td>1</td>\n",
       "      <td>15634602</td>\n",
       "      <td>Hargrave</td>\n",
       "      <td>619</td>\n",
       "      <td>France</td>\n",
       "      <td>Female</td>\n",
       "      <td>42</td>\n",
       "      <td>2</td>\n",
       "      <td>0.00</td>\n",
       "      <td>1</td>\n",
       "      <td>1</td>\n",
       "      <td>1</td>\n",
       "      <td>101348.88</td>\n",
       "      <td>1</td>\n",
       "    </tr>\n",
       "    <tr>\n",
       "      <th>1</th>\n",
       "      <td>2</td>\n",
       "      <td>15647311</td>\n",
       "      <td>Hill</td>\n",
       "      <td>608</td>\n",
       "      <td>Spain</td>\n",
       "      <td>Female</td>\n",
       "      <td>41</td>\n",
       "      <td>1</td>\n",
       "      <td>83807.86</td>\n",
       "      <td>1</td>\n",
       "      <td>0</td>\n",
       "      <td>1</td>\n",
       "      <td>112542.58</td>\n",
       "      <td>0</td>\n",
       "    </tr>\n",
       "    <tr>\n",
       "      <th>2</th>\n",
       "      <td>3</td>\n",
       "      <td>15593897</td>\n",
       "      <td>Carr</td>\n",
       "      <td>650</td>\n",
       "      <td>Spain</td>\n",
       "      <td>Male</td>\n",
       "      <td>25</td>\n",
       "      <td>7</td>\n",
       "      <td>160599.06</td>\n",
       "      <td>2</td>\n",
       "      <td>1</td>\n",
       "      <td>1</td>\n",
       "      <td>28391.52</td>\n",
       "      <td>0</td>\n",
       "    </tr>\n",
       "    <tr>\n",
       "      <th>3</th>\n",
       "      <td>4</td>\n",
       "      <td>15748595</td>\n",
       "      <td>Stanton</td>\n",
       "      <td>689</td>\n",
       "      <td>France</td>\n",
       "      <td>Female</td>\n",
       "      <td>29</td>\n",
       "      <td>1</td>\n",
       "      <td>77556.79</td>\n",
       "      <td>2</td>\n",
       "      <td>1</td>\n",
       "      <td>1</td>\n",
       "      <td>122998.26</td>\n",
       "      <td>0</td>\n",
       "    </tr>\n",
       "    <tr>\n",
       "      <th>4</th>\n",
       "      <td>5</td>\n",
       "      <td>15744109</td>\n",
       "      <td>Hartung</td>\n",
       "      <td>850</td>\n",
       "      <td>France</td>\n",
       "      <td>Male</td>\n",
       "      <td>32</td>\n",
       "      <td>4</td>\n",
       "      <td>0.00</td>\n",
       "      <td>1</td>\n",
       "      <td>1</td>\n",
       "      <td>1</td>\n",
       "      <td>180622.02</td>\n",
       "      <td>0</td>\n",
       "    </tr>\n",
       "  </tbody>\n",
       "</table>\n",
       "</div>"
      ],
      "text/plain": [
       "   RowNumber  CustomerId   Surname  ...  IsActiveMember EstimatedSalary Exited\n",
       "0          1    15634602  Hargrave  ...               1       101348.88      1\n",
       "1          2    15647311      Hill  ...               1       112542.58      0\n",
       "2          3    15593897      Carr  ...               1        28391.52      0\n",
       "3          4    15748595   Stanton  ...               1       122998.26      0\n",
       "4          5    15744109   Hartung  ...               1       180622.02      0\n",
       "\n",
       "[5 rows x 14 columns]"
      ]
     },
     "execution_count": 72,
     "metadata": {
      "tags": []
     },
     "output_type": "execute_result"
    }
   ],
   "source": [
    "df.head()"
   ]
  },
  {
   "cell_type": "code",
   "execution_count": 73,
   "metadata": {
    "id": "TvbyPeNv3Ve1"
   },
   "outputs": [],
   "source": [
    "df.drop(['RowNumber', 'CustomerId', 'Surname'], axis = 1, inplace = True)"
   ]
  },
  {
   "cell_type": "markdown",
   "metadata": {
    "id": "2VnI25zf3YvP"
   },
   "source": [
    "### One-hot Encoding"
   ]
  },
  {
   "cell_type": "code",
   "execution_count": 74,
   "metadata": {
    "colab": {
     "base_uri": "https://localhost:8080/",
     "height": 224
    },
    "id": "KBnEDgIH3Wym",
    "outputId": "71f672b7-f7b7-4a94-80db-2328e9d6c493"
   },
   "outputs": [
    {
     "data": {
      "text/html": [
       "<div>\n",
       "<style scoped>\n",
       "    .dataframe tbody tr th:only-of-type {\n",
       "        vertical-align: middle;\n",
       "    }\n",
       "\n",
       "    .dataframe tbody tr th {\n",
       "        vertical-align: top;\n",
       "    }\n",
       "\n",
       "    .dataframe thead th {\n",
       "        text-align: right;\n",
       "    }\n",
       "</style>\n",
       "<table border=\"1\" class=\"dataframe\">\n",
       "  <thead>\n",
       "    <tr style=\"text-align: right;\">\n",
       "      <th></th>\n",
       "      <th>CreditScore</th>\n",
       "      <th>Geography</th>\n",
       "      <th>Gender</th>\n",
       "      <th>Age</th>\n",
       "      <th>Tenure</th>\n",
       "      <th>Balance</th>\n",
       "      <th>NumOfProducts</th>\n",
       "      <th>HasCrCard</th>\n",
       "      <th>IsActiveMember</th>\n",
       "      <th>EstimatedSalary</th>\n",
       "      <th>Exited</th>\n",
       "    </tr>\n",
       "  </thead>\n",
       "  <tbody>\n",
       "    <tr>\n",
       "      <th>0</th>\n",
       "      <td>619</td>\n",
       "      <td>France</td>\n",
       "      <td>Female</td>\n",
       "      <td>42</td>\n",
       "      <td>2</td>\n",
       "      <td>0.00</td>\n",
       "      <td>1</td>\n",
       "      <td>1</td>\n",
       "      <td>1</td>\n",
       "      <td>101348.88</td>\n",
       "      <td>1</td>\n",
       "    </tr>\n",
       "    <tr>\n",
       "      <th>1</th>\n",
       "      <td>608</td>\n",
       "      <td>Spain</td>\n",
       "      <td>Female</td>\n",
       "      <td>41</td>\n",
       "      <td>1</td>\n",
       "      <td>83807.86</td>\n",
       "      <td>1</td>\n",
       "      <td>0</td>\n",
       "      <td>1</td>\n",
       "      <td>112542.58</td>\n",
       "      <td>0</td>\n",
       "    </tr>\n",
       "    <tr>\n",
       "      <th>2</th>\n",
       "      <td>650</td>\n",
       "      <td>Spain</td>\n",
       "      <td>Male</td>\n",
       "      <td>25</td>\n",
       "      <td>7</td>\n",
       "      <td>160599.06</td>\n",
       "      <td>2</td>\n",
       "      <td>1</td>\n",
       "      <td>1</td>\n",
       "      <td>28391.52</td>\n",
       "      <td>0</td>\n",
       "    </tr>\n",
       "    <tr>\n",
       "      <th>3</th>\n",
       "      <td>689</td>\n",
       "      <td>France</td>\n",
       "      <td>Female</td>\n",
       "      <td>29</td>\n",
       "      <td>1</td>\n",
       "      <td>77556.79</td>\n",
       "      <td>2</td>\n",
       "      <td>1</td>\n",
       "      <td>1</td>\n",
       "      <td>122998.26</td>\n",
       "      <td>0</td>\n",
       "    </tr>\n",
       "    <tr>\n",
       "      <th>4</th>\n",
       "      <td>850</td>\n",
       "      <td>France</td>\n",
       "      <td>Male</td>\n",
       "      <td>32</td>\n",
       "      <td>4</td>\n",
       "      <td>0.00</td>\n",
       "      <td>1</td>\n",
       "      <td>1</td>\n",
       "      <td>1</td>\n",
       "      <td>180622.02</td>\n",
       "      <td>0</td>\n",
       "    </tr>\n",
       "  </tbody>\n",
       "</table>\n",
       "</div>"
      ],
      "text/plain": [
       "   CreditScore Geography  Gender  ...  IsActiveMember  EstimatedSalary  Exited\n",
       "0          619    France  Female  ...               1        101348.88       1\n",
       "1          608     Spain  Female  ...               1        112542.58       0\n",
       "2          650     Spain    Male  ...               1         28391.52       0\n",
       "3          689    France  Female  ...               1        122998.26       0\n",
       "4          850    France    Male  ...               1        180622.02       0\n",
       "\n",
       "[5 rows x 11 columns]"
      ]
     },
     "execution_count": 74,
     "metadata": {
      "tags": []
     },
     "output_type": "execute_result"
    }
   ],
   "source": [
    "df.head()"
   ]
  },
  {
   "cell_type": "code",
   "execution_count": 75,
   "metadata": {
    "id": "H76AIwCz3a02"
   },
   "outputs": [],
   "source": [
    "geography = pd.get_dummies(df['Geography'], drop_first= True)\n",
    "gender = pd.get_dummies(df['Gender'], drop_first= True)"
   ]
  },
  {
   "cell_type": "code",
   "execution_count": 76,
   "metadata": {
    "id": "uAAKTt1r3c04"
   },
   "outputs": [],
   "source": [
    "df_new = pd.concat([df, geography, gender], axis = 1)"
   ]
  },
  {
   "cell_type": "code",
   "execution_count": 77,
   "metadata": {
    "colab": {
     "base_uri": "https://localhost:8080/",
     "height": 131
    },
    "id": "1gvdQbj03eZq",
    "outputId": "86fdcdb1-3519-4861-fb58-879b4ae8568e"
   },
   "outputs": [
    {
     "data": {
      "text/html": [
       "<div>\n",
       "<style scoped>\n",
       "    .dataframe tbody tr th:only-of-type {\n",
       "        vertical-align: middle;\n",
       "    }\n",
       "\n",
       "    .dataframe tbody tr th {\n",
       "        vertical-align: top;\n",
       "    }\n",
       "\n",
       "    .dataframe thead th {\n",
       "        text-align: right;\n",
       "    }\n",
       "</style>\n",
       "<table border=\"1\" class=\"dataframe\">\n",
       "  <thead>\n",
       "    <tr style=\"text-align: right;\">\n",
       "      <th></th>\n",
       "      <th>CreditScore</th>\n",
       "      <th>Geography</th>\n",
       "      <th>Gender</th>\n",
       "      <th>Age</th>\n",
       "      <th>Tenure</th>\n",
       "      <th>Balance</th>\n",
       "      <th>NumOfProducts</th>\n",
       "      <th>HasCrCard</th>\n",
       "      <th>IsActiveMember</th>\n",
       "      <th>EstimatedSalary</th>\n",
       "      <th>Exited</th>\n",
       "      <th>Germany</th>\n",
       "      <th>Spain</th>\n",
       "      <th>Male</th>\n",
       "    </tr>\n",
       "  </thead>\n",
       "  <tbody>\n",
       "    <tr>\n",
       "      <th>0</th>\n",
       "      <td>619</td>\n",
       "      <td>France</td>\n",
       "      <td>Female</td>\n",
       "      <td>42</td>\n",
       "      <td>2</td>\n",
       "      <td>0.00</td>\n",
       "      <td>1</td>\n",
       "      <td>1</td>\n",
       "      <td>1</td>\n",
       "      <td>101348.88</td>\n",
       "      <td>1</td>\n",
       "      <td>0</td>\n",
       "      <td>0</td>\n",
       "      <td>0</td>\n",
       "    </tr>\n",
       "    <tr>\n",
       "      <th>1</th>\n",
       "      <td>608</td>\n",
       "      <td>Spain</td>\n",
       "      <td>Female</td>\n",
       "      <td>41</td>\n",
       "      <td>1</td>\n",
       "      <td>83807.86</td>\n",
       "      <td>1</td>\n",
       "      <td>0</td>\n",
       "      <td>1</td>\n",
       "      <td>112542.58</td>\n",
       "      <td>0</td>\n",
       "      <td>0</td>\n",
       "      <td>1</td>\n",
       "      <td>0</td>\n",
       "    </tr>\n",
       "  </tbody>\n",
       "</table>\n",
       "</div>"
      ],
      "text/plain": [
       "   CreditScore Geography  Gender  Age  ...  Exited  Germany  Spain  Male\n",
       "0          619    France  Female   42  ...       1        0      0     0\n",
       "1          608     Spain  Female   41  ...       0        0      1     0\n",
       "\n",
       "[2 rows x 14 columns]"
      ]
     },
     "execution_count": 77,
     "metadata": {
      "tags": []
     },
     "output_type": "execute_result"
    }
   ],
   "source": [
    "df_new.head(2)"
   ]
  },
  {
   "cell_type": "code",
   "execution_count": 78,
   "metadata": {
    "id": "jjgfAdmr3f_j"
   },
   "outputs": [],
   "source": [
    "df_new.drop(['Geography', 'Gender'], axis = 1, inplace = True)"
   ]
  },
  {
   "cell_type": "code",
   "execution_count": 79,
   "metadata": {
    "colab": {
     "base_uri": "https://localhost:8080/",
     "height": 131
    },
    "id": "PfM_Rg6d3h6H",
    "outputId": "6c923da8-fd04-45cb-aa29-837e41bd92de"
   },
   "outputs": [
    {
     "data": {
      "text/html": [
       "<div>\n",
       "<style scoped>\n",
       "    .dataframe tbody tr th:only-of-type {\n",
       "        vertical-align: middle;\n",
       "    }\n",
       "\n",
       "    .dataframe tbody tr th {\n",
       "        vertical-align: top;\n",
       "    }\n",
       "\n",
       "    .dataframe thead th {\n",
       "        text-align: right;\n",
       "    }\n",
       "</style>\n",
       "<table border=\"1\" class=\"dataframe\">\n",
       "  <thead>\n",
       "    <tr style=\"text-align: right;\">\n",
       "      <th></th>\n",
       "      <th>CreditScore</th>\n",
       "      <th>Age</th>\n",
       "      <th>Tenure</th>\n",
       "      <th>Balance</th>\n",
       "      <th>NumOfProducts</th>\n",
       "      <th>HasCrCard</th>\n",
       "      <th>IsActiveMember</th>\n",
       "      <th>EstimatedSalary</th>\n",
       "      <th>Exited</th>\n",
       "      <th>Germany</th>\n",
       "      <th>Spain</th>\n",
       "      <th>Male</th>\n",
       "    </tr>\n",
       "  </thead>\n",
       "  <tbody>\n",
       "    <tr>\n",
       "      <th>0</th>\n",
       "      <td>619</td>\n",
       "      <td>42</td>\n",
       "      <td>2</td>\n",
       "      <td>0.00</td>\n",
       "      <td>1</td>\n",
       "      <td>1</td>\n",
       "      <td>1</td>\n",
       "      <td>101348.88</td>\n",
       "      <td>1</td>\n",
       "      <td>0</td>\n",
       "      <td>0</td>\n",
       "      <td>0</td>\n",
       "    </tr>\n",
       "    <tr>\n",
       "      <th>1</th>\n",
       "      <td>608</td>\n",
       "      <td>41</td>\n",
       "      <td>1</td>\n",
       "      <td>83807.86</td>\n",
       "      <td>1</td>\n",
       "      <td>0</td>\n",
       "      <td>1</td>\n",
       "      <td>112542.58</td>\n",
       "      <td>0</td>\n",
       "      <td>0</td>\n",
       "      <td>1</td>\n",
       "      <td>0</td>\n",
       "    </tr>\n",
       "  </tbody>\n",
       "</table>\n",
       "</div>"
      ],
      "text/plain": [
       "   CreditScore  Age  Tenure   Balance  ...  Exited  Germany  Spain  Male\n",
       "0          619   42       2      0.00  ...       1        0      0     0\n",
       "1          608   41       1  83807.86  ...       0        0      1     0\n",
       "\n",
       "[2 rows x 12 columns]"
      ]
     },
     "execution_count": 79,
     "metadata": {
      "tags": []
     },
     "output_type": "execute_result"
    }
   ],
   "source": [
    "df_new.head(2)"
   ]
  },
  {
   "cell_type": "markdown",
   "metadata": {
    "id": "hWYs-iVh3pFJ"
   },
   "source": [
    "Now the data is cleaned and ready to fit"
   ]
  },
  {
   "cell_type": "code",
   "execution_count": 80,
   "metadata": {
    "id": "A9ud4KJv3mmx"
   },
   "outputs": [],
   "source": [
    "X = df_new.drop(['Exited'], axis = 1).copy()\n",
    "y = df_new['Exited'].copy()"
   ]
  },
  {
   "cell_type": "markdown",
   "metadata": {
    "id": "ANKzX3TT31-D"
   },
   "source": [
    "<div class=\"alert alert-block alert-info\" style=\"margin-top: 20px\">\n",
    "<h4>check the data before fit,</h4>\n",
    "<h4>whether the data is balance or imbalance</h4>\n",
    "</div>\n"
   ]
  },
  {
   "cell_type": "markdown",
   "metadata": {
    "id": "gESt_cmF38BD"
   },
   "source": [
    "If the data is imbalance the model will acts as bias. It's Not a good model even it gives high accuracy"
   ]
  },
  {
   "cell_type": "code",
   "execution_count": 81,
   "metadata": {
    "colab": {
     "base_uri": "https://localhost:8080/"
    },
    "id": "X7iUPL3T3wnm",
    "outputId": "b417d686-afa0-4b2a-c448-3c5ca3d53651"
   },
   "outputs": [
    {
     "data": {
      "text/plain": [
       "0    4815\n",
       "1     877\n",
       "Name: Exited, dtype: int64"
      ]
     },
     "execution_count": 81,
     "metadata": {
      "tags": []
     },
     "output_type": "execute_result"
    }
   ],
   "source": [
    "y.value_counts()"
   ]
  },
  {
   "cell_type": "markdown",
   "metadata": {
    "id": "-s-LHXsq4Ca7"
   },
   "source": [
    "The data is imabalanced, to make it a balanced one, there are few techniques <br>Under sampling, Over sampling, create many models and take majority votes"
   ]
  },
  {
   "cell_type": "markdown",
   "metadata": {
    "id": "qbgPg4Zt4GCT"
   },
   "source": [
    "**SMOTE**, one of the functon from over sampling used to make data balance by creating synthetic data on minority class"
   ]
  },
  {
   "cell_type": "code",
   "execution_count": 82,
   "metadata": {
    "id": "wdeUa0sS4A6_"
   },
   "outputs": [],
   "source": [
    "# import library\n",
    "from imblearn.over_sampling import SMOTE"
   ]
  },
  {
   "cell_type": "code",
   "execution_count": 83,
   "metadata": {
    "id": "PNXEWcEx4IAV"
   },
   "outputs": [],
   "source": [
    "smote = SMOTE(sampling_strategy= 'minority')"
   ]
  },
  {
   "cell_type": "code",
   "execution_count": 84,
   "metadata": {
    "id": "H9mJsQIo4J4b"
   },
   "outputs": [],
   "source": [
    "X_sm, y_sm = smote.fit_resample(X, y)"
   ]
  },
  {
   "cell_type": "markdown",
   "metadata": {
    "id": "u49lPU2A4OTG"
   },
   "source": [
    "The data balanced using SMOTE"
   ]
  },
  {
   "cell_type": "markdown",
   "metadata": {
    "id": "8tsQU6qJ4eBs"
   },
   "source": [
    "target values have equal number of classes **now it's ready to fit**"
   ]
  },
  {
   "cell_type": "markdown",
   "metadata": {
    "id": "7_5mFyL54h3d"
   },
   "source": [
    "### Training Data"
   ]
  },
  {
   "cell_type": "code",
   "execution_count": 85,
   "metadata": {
    "id": "qlMMVEi-4QRU"
   },
   "outputs": [],
   "source": [
    "# import library\n",
    "from sklearn.model_selection import train_test_split\n",
    "from sklearn.ensemble import RandomForestClassifier"
   ]
  },
  {
   "cell_type": "code",
   "execution_count": 86,
   "metadata": {
    "id": "bDbktFnt4kOt"
   },
   "outputs": [],
   "source": [
    "X_train, X_test, y_train, y_test = train_test_split(X_sm, y_sm, test_size=0.2, random_state=0, stratify= y_sm)"
   ]
  },
  {
   "cell_type": "code",
   "execution_count": 87,
   "metadata": {
    "id": "0vdtZMPj4vR7"
   },
   "outputs": [],
   "source": [
    "rf_classifier = RandomForestClassifier().fit(X_train, y_train)"
   ]
  },
  {
   "cell_type": "markdown",
   "metadata": {
    "id": "bSYzD38O40xm"
   },
   "source": [
    "### Testing Data"
   ]
  },
  {
   "cell_type": "code",
   "execution_count": 88,
   "metadata": {
    "id": "95AGHziu4yGv"
   },
   "outputs": [],
   "source": [
    "pred = rf_classifier.predict(X_test)"
   ]
  },
  {
   "cell_type": "code",
   "execution_count": 89,
   "metadata": {
    "id": "frwVv3v_42p-"
   },
   "outputs": [],
   "source": [
    "# import library\n",
    "from sklearn.metrics import accuracy_score, classification_report, confusion_matrix, roc_auc_score, roc_curve"
   ]
  },
  {
   "cell_type": "markdown",
   "metadata": {
    "id": "h0W62Rp146g_"
   },
   "source": [
    "### Accuracy"
   ]
  },
  {
   "cell_type": "code",
   "execution_count": 90,
   "metadata": {
    "colab": {
     "base_uri": "https://localhost:8080/"
    },
    "id": "dHLa2inZ44Ej",
    "outputId": "63483086-e5b3-4d94-aedb-c4f0f7c87319"
   },
   "outputs": [
    {
     "name": "stdout",
     "output_type": "stream",
     "text": [
      "Accuracy score is :0.9164070612668743\n"
     ]
    }
   ],
   "source": [
    "print(f'Accuracy score is :{accuracy_score(y_test, pred)}')"
   ]
  },
  {
   "cell_type": "code",
   "execution_count": 91,
   "metadata": {
    "colab": {
     "base_uri": "https://localhost:8080/"
    },
    "id": "LIvgRzTd487I",
    "outputId": "216827de-e983-4d66-c0f8-750d543bdde4"
   },
   "outputs": [
    {
     "name": "stdout",
     "output_type": "stream",
     "text": [
      "              precision    recall  f1-score   support\n",
      "\n",
      "           0       0.89      0.95      0.92       963\n",
      "           1       0.95      0.88      0.91       963\n",
      "\n",
      "    accuracy                           0.92      1926\n",
      "   macro avg       0.92      0.92      0.92      1926\n",
      "weighted avg       0.92      0.92      0.92      1926\n",
      "\n"
     ]
    }
   ],
   "source": [
    "print(classification_report(y_test, pred))"
   ]
  },
  {
   "cell_type": "markdown",
   "metadata": {
    "id": "619Uqfeq5CZH"
   },
   "source": [
    "Model gives almost equal precision, recall and f1-score for both classes"
   ]
  },
  {
   "cell_type": "code",
   "execution_count": 92,
   "metadata": {
    "id": "7UdkZqLW4-1J"
   },
   "outputs": [],
   "source": [
    "# to plot confusion matrix\n",
    "def plot_confusion_matrix(conf_matrix, class_name, figsize = (8, 6), fontsize = 13):\n",
    "    plt.figure(figsize = figsize)\n",
    "    d_frame = pd.DataFrame(conf_matrix, index = class_name, columns = class_name)\n",
    "    try:\n",
    "        heatmap = sns.heatmap(d_frame, annot = True, fmt='d')\n",
    "    except ValueError:\n",
    "        raise ValueError('Values must be integers')\n",
    "    heatmap.xaxis.set_ticklabels(heatmap.xaxis.get_ticklabels(), rotation = 0, fontsize = fontsize)\n",
    "    heatmap.yaxis.set_ticklabels(heatmap.yaxis.get_ticklabels(), rotation = 0, fontsize = fontsize)\n",
    "    plt.xlabel('Prediction')\n",
    "    plt.ylabel('Actual')\n",
    "    plt.show()"
   ]
  },
  {
   "cell_type": "code",
   "execution_count": 93,
   "metadata": {
    "colab": {
     "base_uri": "https://localhost:8080/",
     "height": 391
    },
    "id": "1oZ7v_C65EnX",
    "outputId": "b042f439-f5a9-414a-f74f-b7cdd8acbe04"
   },
   "outputs": [
    {
     "data": {
      "image/png": "[encoded data removed]",
      "text/plain": [
       "<Figure size 576x432 with 2 Axes>"
      ]
     },
     "metadata": {
      "needs_background": "light",
      "tags": []
     },
     "output_type": "display_data"
    }
   ],
   "source": [
    "cm = confusion_matrix(y_test, pred)\n",
    "plot_confusion_matrix(cm, ['Active member', 'Not Active member'])"
   ]
  },
  {
   "cell_type": "code",
   "execution_count": 94,
   "metadata": {
    "id": "eSiAGJjK5HPP"
   },
   "outputs": [],
   "source": [
    "# to generate roc curve\n",
    "def generate_roc_curve(model, X_test):\n",
    "    plt.figure(figsize = (10, 7))\n",
    "    y_pred_prob = model.predict_proba(X_test)[:, 1]\n",
    "    roc_score = roc_auc_score(y_test, y_pred_prob)\n",
    "    fpr, tpr, threshold = roc_curve(y_test, y_pred_prob)\n",
    "    plt.plot(fpr, tpr, color = 'red', label = 'ROC Score :'+ str(roc_score))\n",
    "    plt.title('ROC Curve', size = 15)\n",
    "    plt.legend(loc = 4)\n",
    "    plt.show()"
   ]
  },
  {
   "cell_type": "code",
   "execution_count": 95,
   "metadata": {
    "colab": {
     "base_uri": "https://localhost:8080/",
     "height": 446
    },
    "id": "H7bW8S_k5KDc",
    "outputId": "391dabe5-adc4-4dde-d0c4-5ca6577748f8"
   },
   "outputs": [
    {
     "data": {
      "image/png": "[encoded data removed]",
      "text/plain": [
       "<Figure size 720x504 with 1 Axes>"
      ]
     },
     "metadata": {
      "needs_background": "light",
      "tags": []
     },
     "output_type": "display_data"
    }
   ],
   "source": [
    "generate_roc_curve(rf_classifier, X_test)"
   ]
  },
  {
   "cell_type": "markdown",
   "metadata": {
    "id": "fEQisyZF5Y98"
   },
   "source": [
    "### hyperparameter tuning"
   ]
  },
  {
   "cell_type": "markdown",
   "metadata": {
    "id": "mCClb2Dz5bCX"
   },
   "source": [
    "hyperparameters will be tune. So, that the model can optimally solve the problem"
   ]
  },
  {
   "cell_type": "code",
   "execution_count": 96,
   "metadata": {
    "id": "_LME00EU5Lrq"
   },
   "outputs": [],
   "source": [
    "# import library\n",
    "from sklearn.model_selection import GridSearchCV"
   ]
  },
  {
   "cell_type": "code",
   "execution_count": 97,
   "metadata": {
    "id": "b5sV4nl95dUH"
   },
   "outputs": [],
   "source": [
    "params = [\n",
    "          {'criterion' :['gini'], 'n_estimators' : [100, 300, 500], 'max_depth' : [5, 8, 15],\n",
    "          'min_samples_split' : [2, 5, 10], 'min_samples_leaf' : [1, 2, 5]},\n",
    "          {'criterion' :['entropy'], 'n_estimators' : [100, 300, 500], 'max_depth' : [5, 8, 15],\n",
    "          'min_samples_split' : [2, 5, 10], 'min_samples_leaf' : [1, 2, 5]}\n",
    "]"
   ]
  },
  {
   "cell_type": "code",
   "execution_count": 98,
   "metadata": {
    "id": "Kq0lpCeZ5fkX"
   },
   "outputs": [],
   "source": [
    "model = RandomForestClassifier()"
   ]
  },
  {
   "cell_type": "code",
   "execution_count": 99,
   "metadata": {
    "id": "bXweirrO5iRm"
   },
   "outputs": [],
   "source": [
    "grs = GridSearchCV(estimator=model, param_grid= params, scoring='accuracy', cv = 10, n_jobs= -1)"
   ]
  },
  {
   "cell_type": "code",
   "execution_count": 100,
   "metadata": {
    "id": "58UiegYe5kDC"
   },
   "outputs": [],
   "source": [
    "gs = grs.fit(X_train, y_train)"
   ]
  },
  {
   "cell_type": "code",
   "execution_count": 101,
   "metadata": {
    "colab": {
     "base_uri": "https://localhost:8080/"
    },
    "id": "pNWq_clJF1Jc",
    "outputId": "5ba48808-7031-4ae9-b149-b98c32c160df"
   },
   "outputs": [
    {
     "data": {
      "text/plain": [
       "0.9275688513820809"
      ]
     },
     "execution_count": 101,
     "metadata": {
      "tags": []
     },
     "output_type": "execute_result"
    }
   ],
   "source": [
    "gs.best_score_"
   ]
  },
  {
   "cell_type": "code",
   "execution_count": 102,
   "metadata": {
    "colab": {
     "base_uri": "https://localhost:8080/"
    },
    "id": "dlhlsBP15l1B",
    "outputId": "1f3f4b78-5ff8-4f6c-ab0c-d6a0c28f2e48"
   },
   "outputs": [
    {
     "data": {
      "text/plain": [
       "{'criterion': 'gini',\n",
       " 'max_depth': 15,\n",
       " 'min_samples_leaf': 1,\n",
       " 'min_samples_split': 2,\n",
       " 'n_estimators': 300}"
      ]
     },
     "execution_count": 102,
     "metadata": {
      "tags": []
     },
     "output_type": "execute_result"
    }
   ],
   "source": [
    "gs.best_params_"
   ]
  },
  {
   "cell_type": "code",
   "execution_count": 103,
   "metadata": {
    "id": "pf5A_CLI5r8k"
   },
   "outputs": [],
   "source": [
    "rc_model = RandomForestClassifier(criterion='gini', max_depth=15, \n",
    "                                  min_samples_leaf=1, min_samples_split=2, \n",
    "                                  n_estimators=300).fit(X_train, y_train)"
   ]
  },
  {
   "cell_type": "code",
   "execution_count": 104,
   "metadata": {
    "id": "0Y-TDxne5uAj"
   },
   "outputs": [],
   "source": [
    "pred = rc_model.predict(X_test)"
   ]
  },
  {
   "cell_type": "code",
   "execution_count": 105,
   "metadata": {
    "colab": {
     "base_uri": "https://localhost:8080/"
    },
    "id": "q0Mn4k_k5v63",
    "outputId": "dd99cab5-4588-46b2-94de-58a89419426e"
   },
   "outputs": [
    {
     "name": "stdout",
     "output_type": "stream",
     "text": [
      "Accuracy is :0.9153686396677051\n"
     ]
    }
   ],
   "source": [
    "print(f'Accuracy is :{accuracy_score(y_test, pred)}')"
   ]
  },
  {
   "cell_type": "code",
   "execution_count": 106,
   "metadata": {
    "colab": {
     "base_uri": "https://localhost:8080/"
    },
    "id": "tYAaMu6p5xyF",
    "outputId": "5a6d6a04-f5f2-468e-d2ba-a3ab07fb7b4d"
   },
   "outputs": [
    {
     "name": "stdout",
     "output_type": "stream",
     "text": [
      "              precision    recall  f1-score   support\n",
      "\n",
      "           0       0.89      0.95      0.92       963\n",
      "           1       0.94      0.88      0.91       963\n",
      "\n",
      "    accuracy                           0.92      1926\n",
      "   macro avg       0.92      0.92      0.92      1926\n",
      "weighted avg       0.92      0.92      0.92      1926\n",
      "\n"
     ]
    }
   ],
   "source": [
    "print(classification_report(y_test, pred))"
   ]
  },
  {
   "cell_type": "code",
   "execution_count": 107,
   "metadata": {
    "colab": {
     "base_uri": "https://localhost:8080/",
     "height": 391
    },
    "id": "59hTzNYH5z2D",
    "outputId": "4dd271bb-359b-4b26-c190-c606f61d254c"
   },
   "outputs": [
    {
     "data": {
      "image/png": "[encoded data removed]",
      "text/plain": [
       "<Figure size 576x432 with 2 Axes>"
      ]
     },
     "metadata": {
      "needs_background": "light",
      "tags": []
     },
     "output_type": "display_data"
    }
   ],
   "source": [
    "con_mat = confusion_matrix(y_test, pred)\n",
    "plot_confusion_matrix(con_mat, ['Active member', 'Not Active member'])"
   ]
  },
  {
   "cell_type": "code",
   "execution_count": 108,
   "metadata": {
    "colab": {
     "base_uri": "https://localhost:8080/",
     "height": 446
    },
    "id": "RigLoevY510l",
    "outputId": "5529b4c0-0f4d-43ee-8637-bada57ab6b7b"
   },
   "outputs": [
    {
     "data": {
      "image/png": "[encoded data removed]",
      "text/plain": [
       "<Figure size 720x504 with 1 Axes>"
      ]
     },
     "metadata": {
      "needs_background": "light",
      "tags": []
     },
     "output_type": "display_data"
    }
   ],
   "source": [
    "generate_roc_curve(rc_model, X_test)"
   ]
  },
  {
   "cell_type": "markdown",
   "metadata": {
    "id": "6E-LznZ_CACL"
   },
   "source": [
    "Most of the time Random forest works well without hyperparameter tuning. It works good and gives better result with it’s default parameter."
   ]
  },
  {
   "cell_type": "markdown",
   "metadata": {
    "id": "tmcqpF8nCnU0"
   },
   "source": [
    "### Results"
   ]
  },
  {
   "cell_type": "markdown",
   "metadata": {
    "id": "ETC3iXcNCrae"
   },
   "source": [
    "Bank has more customers from France than Spain and Germany. Even though German customers are less they maintain high balance in their accounts. More number of German customers closed their accounts. Bank has more Male customers than Female customers. Even though female customers were minority more of them closed their accounts than Male customers. Most of the time the customers purchased 1 or 2 products only. Majority of Bank customers have credit cards. Almost half of the customers maintain their balance 0. Less customers are exited (reason may – poor service, schemes, interest, etc.). There is no relationship between the estimated salary and balance. Certain customers closed their accounts in each country."
   ]
  },
  {
   "cell_type": "markdown",
   "metadata": {
    "id": "AoO91P2EDCnb"
   },
   "source": [
    "### Conclusion"
   ]
  },
  {
   "cell_type": "markdown",
   "metadata": {
    "id": "8WdwxjqxDOgx"
   },
   "source": [
    "The purpose of this project is to help the Bank to retain their customers and attract more customers and profit."
   ]
  },
  {
   "cell_type": "markdown",
   "metadata": {
    "id": "L0Ib_g20DRoY"
   },
   "source": [
    "We could see certain customers exited. To retain the customers, the Bank must provide good services, schemes, etc."
   ]
  },
  {
   "cell_type": "markdown",
   "metadata": {
    "id": "EzzbiCCEDU8a"
   },
   "source": [
    "To make more profit the bank should open branches in Germany, where the customers maintain their balance high."
   ]
  },
  {
   "cell_type": "markdown",
   "metadata": {
    "id": "zW0ccyOBSLoB"
   },
   "source": [
    "More customers closed their accounts in Germany. To retain them the bank should offer high interest, services, etc."
   ]
  },
  {
   "cell_type": "markdown",
   "metadata": {},
   "source": [
    "There was already less female customers than their counterpart, worse the female customers keep dwindling down on.The bank should improve it's customer service, and security."
   ]
  },
  {
   "cell_type": "markdown",
   "metadata": {
    "id": "kafV4pxoDYxu"
   },
   "source": [
    "---"
   ]
  }
 ],
 "metadata": {
  "colab": {
   "collapsed_sections": [],
   "name": "churn_classification - Copy.ipynb",
   "provenance": [],
   "toc_visible": true
  },
  "kernelspec": {
   "display_name": "Python 3",
   "language": "python",
   "name": "python3"
  },
  "language_info": {
   "codemirror_mode": {
    "name": "ipython",
    "version": 3
   },
   "file_extension": ".py",
   "mimetype": "text/x-python",
   "name": "python",
   "nbconvert_exporter": "python",
   "pygments_lexer": "ipython3",
   "version": "3.8.5"
  }
 },
 "nbformat": 4,
 "nbformat_minor": 4
}
